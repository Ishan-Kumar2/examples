{
 "cells": [
  {
   "cell_type": "markdown",
   "source": [
    "# How to switch data provider during training"
   ],
   "metadata": {}
  },
  {
   "cell_type": "markdown",
   "source": [
    "User can easily switch data provider during the training using\n",
    "[`set_data()`](https://pytorch.org/ignite/v0.4.5/generated/ignite.engine.engine.Engine.html#ignite.engine.engine.Engine.set_data). See an example in the\n",
    "documentation of the method."
   ],
   "metadata": {}
  },
  {
   "cell_type": "code",
   "execution_count": 11,
   "source": [
    "from ignite.engine import Engine, Events\n",
    "\n",
    "data1 = [1, 2, 3]\n",
    "data2 = [4, 5, 6]\n",
    "\n",
    "switch_iteration = 3\n",
    "\n",
    "def train_step(engine, batch):\n",
    "    # when iteration <= switch_iteration, batch is from data1\n",
    "    # when iteration > switch_iteration, batch is from data2\n",
    "    print(\"Current datapoint = \", batch)\n",
    "\n",
    "trainer = Engine(train_step)\n",
    "\n",
    "@trainer.on(Events.ITERATION_COMPLETED(once=switch_iteration))\n",
    "def switch_dataloader():\n",
    "    print(\"<---- Switch Data ---->\")\n",
    "    trainer.set_data(data2)\n",
    "\n",
    "trainer.run(data1, max_epochs=3)\n"
   ],
   "outputs": [
    {
     "output_type": "stream",
     "name": "stdout",
     "text": [
      "Current datapoint =  1\n",
      "Current datapoint =  2\n",
      "Current datapoint =  3\n",
      "<---- Switch Data ---->\n",
      "Current datapoint =  4\n",
      "Current datapoint =  5\n",
      "Current datapoint =  6\n",
      "Current datapoint =  4\n",
      "Current datapoint =  5\n",
      "Current datapoint =  6\n"
     ]
    },
    {
     "output_type": "execute_result",
     "data": {
      "text/plain": [
       "State:\n",
       "\titeration: 9\n",
       "\tepoch: 3\n",
       "\tepoch_length: 3\n",
       "\tmax_epochs: 3\n",
       "\toutput: <class 'NoneType'>\n",
       "\tbatch: 6\n",
       "\tmetrics: <class 'dict'>\n",
       "\tdataloader: <class 'list'>\n",
       "\tseed: <class 'NoneType'>\n",
       "\ttimes: <class 'dict'>"
      ]
     },
     "metadata": {},
     "execution_count": 11
    }
   ],
   "metadata": {}
  }
 ],
 "metadata": {
  "kernelspec": {
   "display_name": "Python 3 (ipykernel)",
   "language": "python",
   "name": "python3"
  },
  "language_info": {
   "codemirror_mode": {
    "name": "ipython",
    "version": 3
   },
   "file_extension": ".py",
   "mimetype": "text/x-python",
   "name": "python",
   "nbconvert_exporter": "python",
   "pygments_lexer": "ipython3",
   "version": "3.8.8"
  }
 },
 "nbformat": 4,
 "nbformat_minor": 5
}