{
 "cells": [
  {
   "cell_type": "markdown",
   "source": [
    "# How to do time profiling during training"
   ],
   "metadata": {}
  },
  {
   "cell_type": "markdown",
   "source": [
    "User can fetch times in several manners depending on complexity of\n",
    "required time profiling:"
   ],
   "metadata": {}
  },
  {
   "cell_type": "markdown",
   "source": [
    "## Single epoch and total time\n",
    "\n",
    "Simpliest way to fetch time of single epoch and complete training is to\n",
    "use `engine.state.times[\"EPOCH_COMPLETED\"]` and\n",
    "`engine.state.times[\"COMPLETED\"]`:"
   ],
   "metadata": {}
  },
  {
   "cell_type": "code",
   "execution_count": 19,
   "source": [
    "import time\n",
    "from ignite.engine import Engine, Events\n",
    "\n",
    "# Dummy data \n",
    "data = [1, 2, 3]\n",
    "\n",
    "# For every datapoint, trainer will sleep for 1 second\n",
    "trainer = Engine(lambda engine, batch: time.sleep(1))\n",
    "\n",
    "@trainer.on(Events.EPOCH_COMPLETED)\n",
    "def log_epoch_time():\n",
    "    print(f\"{trainer.state.epoch}: {trainer.state.times['EPOCH_COMPLETED']}\")\n",
    "\n",
    "@trainer.on(Events.COMPLETED)\n",
    "def log_total_time():\n",
    "    print(f\"Total: {trainer.state.times['COMPLETED']}\")\n",
    "\n",
    "trainer.run(data=data, max_epochs=5)"
   ],
   "outputs": [
    {
     "output_type": "stream",
     "name": "stdout",
     "text": [
      "1: 3.0028934478759766\n",
      "2: 3.0037014484405518\n",
      "3: 3.003610849380493\n",
      "4: 3.0037147998809814\n",
      "5: 3.003558397293091\n",
      "Total: 15.019093036651611\n"
     ]
    },
    {
     "output_type": "execute_result",
     "data": {
      "text/plain": [
       "State:\n",
       "\titeration: 15\n",
       "\tepoch: 5\n",
       "\tepoch_length: 3\n",
       "\tmax_epochs: 5\n",
       "\toutput: <class 'NoneType'>\n",
       "\tbatch: 3\n",
       "\tmetrics: <class 'dict'>\n",
       "\tdataloader: <class 'list'>\n",
       "\tseed: <class 'NoneType'>\n",
       "\ttimes: <class 'dict'>"
      ]
     },
     "metadata": {},
     "execution_count": 19
    }
   ],
   "metadata": {}
  },
  {
   "cell_type": "markdown",
   "source": [
    "For details, see [`State`](https://pytorch.org/ignite/v0.4.5/generated/ignite.engine.events.State.html#state)."
   ],
   "metadata": {}
  },
  {
   "cell_type": "markdown",
   "source": [
    "## Basic time profiling\n",
    "\n",
    "User can setup [`BasicTimeProfiler`](https://pytorch.org/ignite/v0.4.5/generated/ignite.contrib.handlers.time_profilers.BasicTimeProfiler.html#basictimeprofiler) to fetch times spent in data\n",
    "processing, training step, event handlers:"
   ],
   "metadata": {}
  },
  {
   "cell_type": "code",
   "execution_count": 20,
   "source": [
    "import time\n",
    "from ignite.engine import Engine, Events\n",
    "from ignite.contrib.handlers import BasicTimeProfiler\n",
    "\n",
    "# Dummy data \n",
    "data = [1, 2, 3]\n",
    "\n",
    "# For every datapoint, trainer will sleep for 1 second\n",
    "trainer = Engine(lambda engine, batch: time.sleep(1))\n",
    "\n",
    "# Create an object of the profiler and attach an engine to it\n",
    "profiler = BasicTimeProfiler()\n",
    "profiler.attach(trainer)\n",
    "\n",
    "@trainer.on(Events.EPOCH_COMPLETED(every=3))\n",
    "def log_intermediate_results():\n",
    "    profiler.print_results(profiler.get_results())\n",
    "\n",
    "trainer.run(data=data, max_epochs=3)"
   ],
   "outputs": [
    {
     "output_type": "stream",
     "name": "stdout",
     "text": [
      "\n",
      " ----------------------------------------------------\n",
      "| Time profiling stats (in seconds):                 |\n",
      " ----------------------------------------------------\n",
      "total  |  min/index  |  max/index  |  mean  |  std\n",
      "\n",
      "Processing function:\n",
      "9.01026 | 1.00065/3 | 1.00144/2 | 1.00114 | 0.00022\n",
      "\n",
      "Dataflow:\n",
      "0.00089 | 0.00003/6 | 0.00022/1 | 0.00010 | 0.00007\n",
      "\n",
      "Event handlers:\n",
      "0.00040\n",
      "\n",
      "- Events.STARTED: []\n",
      "0.00001\n",
      "\n",
      "- Events.EPOCH_STARTED: []\n",
      "0.00004 | 0.00000/0 | 0.00003/2 | 0.00001 | 0.00001\n",
      "\n",
      "- Events.ITERATION_STARTED: []\n",
      "0.00004 | 0.00000/0 | 0.00002/2 | 0.00000 | 0.00000\n",
      "\n",
      "- Events.ITERATION_COMPLETED: []\n",
      "0.00011 | 0.00000/7 | 0.00003/1 | 0.00001 | 0.00001\n",
      "\n",
      "- Events.EPOCH_COMPLETED: ['log_intermediate_results']\n",
      "0.00007 | 0.00003/1 | 0.00004/0 | 0.00004 | 0.00001\n",
      "\n",
      "- Events.COMPLETED: []\n",
      "not yet triggered\n",
      "\n"
     ]
    },
    {
     "output_type": "execute_result",
     "data": {
      "text/plain": [
       "State:\n",
       "\titeration: 9\n",
       "\tepoch: 3\n",
       "\tepoch_length: 3\n",
       "\tmax_epochs: 3\n",
       "\toutput: <class 'NoneType'>\n",
       "\tbatch: 3\n",
       "\tmetrics: <class 'dict'>\n",
       "\tdataloader: <class 'list'>\n",
       "\tseed: <class 'NoneType'>\n",
       "\ttimes: <class 'dict'>"
      ]
     },
     "metadata": {},
     "execution_count": 20
    }
   ],
   "metadata": {}
  },
  {
   "cell_type": "markdown",
   "source": [
    "For details, see [`BasicTimeProfiler`](https://pytorch.org/ignite/v0.4.5/generated/ignite.contrib.handlers.time_profilers.BasicTimeProfiler.html#basictimeprofiler)"
   ],
   "metadata": {}
  },
  {
   "cell_type": "markdown",
   "source": [
    "## Event handlers time profiling\n",
    "\n",
    "If you want to get time breakdown per handler basis then you can setup\n",
    "[`HandlersTimeProfiler`](https://pytorch.org/ignite/v0.4.5/generated/ignite.contrib.handlers.time_profilers.HandlersTimeProfiler.html#ignite.contrib.handlers.time_profilers.HandlersTimeProfiler):"
   ],
   "metadata": {}
  },
  {
   "cell_type": "code",
   "execution_count": 29,
   "source": [
    "import time\n",
    "from ignite.engine import Engine, Events\n",
    "from ignite.contrib.handlers import HandlersTimeProfiler\n",
    "\n",
    "# Dummy data \n",
    "data = [1, 2, 3]\n",
    "\n",
    "# For every datapoint, trainer will sleep for 1 second\n",
    "trainer = Engine(lambda engine, batch: time.sleep(1))\n",
    "\n",
    "# Create an object of the profiler and attach an engine to it\n",
    "profiler = HandlersTimeProfiler()\n",
    "profiler.attach(trainer)   \n",
    "\n",
    "@trainer.on(Events.EPOCH_COMPLETED(every=1))\n",
    "def log_intermediate_results():\n",
    "    profiler.print_results(profiler.get_results())\n",
    "\n",
    "trainer.run(data=data, max_epochs=3)"
   ],
   "outputs": [
    {
     "output_type": "stream",
     "name": "stdout",
     "text": [
      "\n",
      "----------------------------  -------------------  --------------  --------------  --------------  --------------  --------------  \n",
      "Handler                       Event Name                 Total(s)      Min(s)/IDX      Max(s)/IDX         Mean(s)          Std(s)  \n",
      "----------------------------  -------------------  --------------  --------------  --------------  --------------  --------------  \n",
      "log_intermediate_results      EPOCH_COMPLETED       not triggered       None/None       None/None            None            None  \n",
      "----------------------------  -------------------  --------------  --------------  --------------  --------------  --------------  \n",
      "Total                                                         0.0                                                                  \n",
      "----------------------------  -------------------  --------------  --------------  --------------  --------------  --------------  \n",
      "Processing took total 3.00376s [min/index: 1.00049s/0, max/index: 1.00204s/1, mean: 1.00125s, std: 0.00077s]\n",
      "Dataflow took total 8e-05s [min/index: 1e-05s/0, max/index: 4e-05s/2, mean: 3e-05s, std: 1e-05s]\n",
      "\n",
      "\n",
      "----------------------------  -------------------  --------------  --------------  --------------  --------------  --------------  \n",
      "Handler                       Event Name                 Total(s)      Min(s)/IDX      Max(s)/IDX         Mean(s)          Std(s)  \n",
      "----------------------------  -------------------  --------------  --------------  --------------  --------------  --------------  \n",
      "log_intermediate_results      EPOCH_COMPLETED             0.00267       0.00267/0       0.00267/0         0.00267            None  \n",
      "----------------------------  -------------------  --------------  --------------  --------------  --------------  --------------  \n",
      "Total                                                     0.00267                                                                  \n",
      "----------------------------  -------------------  --------------  --------------  --------------  --------------  --------------  \n",
      "Processing took total 6.00758s [min/index: 1.00049s/0, max/index: 1.00204s/1, mean: 1.00126s, std: 0.00049s]\n",
      "Dataflow took total 0.0002s [min/index: 1e-05s/0, max/index: 6e-05s/3, mean: 3e-05s, std: 2e-05s]\n",
      "\n",
      "\n",
      "----------------------------  -------------------  --------------  --------------  --------------  --------------  --------------  \n",
      "Handler                       Event Name                 Total(s)      Min(s)/IDX      Max(s)/IDX         Mean(s)          Std(s)  \n",
      "----------------------------  -------------------  --------------  --------------  --------------  --------------  --------------  \n",
      "log_intermediate_results      EPOCH_COMPLETED              0.0055       0.00267/0       0.00284/1         0.00275         0.00012  \n",
      "----------------------------  -------------------  --------------  --------------  --------------  --------------  --------------  \n",
      "Total                                                      0.0055                                                                  \n",
      "----------------------------  -------------------  --------------  --------------  --------------  --------------  --------------  \n",
      "Processing took total 9.01095s [min/index: 1.00049s/0, max/index: 1.00204s/1, mean: 1.00122s, std: 0.0004s]\n",
      "Dataflow took total 0.00035s [min/index: 1e-05s/0, max/index: 8e-05s/6, mean: 4e-05s, std: 2e-05s]\n",
      "\n"
     ]
    },
    {
     "output_type": "execute_result",
     "data": {
      "text/plain": [
       "State:\n",
       "\titeration: 9\n",
       "\tepoch: 3\n",
       "\tepoch_length: 3\n",
       "\tmax_epochs: 3\n",
       "\toutput: <class 'NoneType'>\n",
       "\tbatch: 3\n",
       "\tmetrics: <class 'dict'>\n",
       "\tdataloader: <class 'list'>\n",
       "\tseed: <class 'NoneType'>\n",
       "\ttimes: <class 'dict'>"
      ]
     },
     "metadata": {},
     "execution_count": 29
    }
   ],
   "metadata": {}
  },
  {
   "cell_type": "markdown",
   "source": [
    "For details, see [`HandlersTimeProfiler`](https://pytorch.org/ignite/v0.4.5/generated/ignite.contrib.handlers.time_profilers.HandlersTimeProfiler.html#ignite.contrib.handlers.time_profilers.HandlersTimeProfiler)."
   ],
   "metadata": {}
  },
  {
   "cell_type": "markdown",
   "source": [
    "## Custom time measures\n",
    "\n",
    "Custom time measures can be performed using [`Timer`](https://pytorch.org/ignite/v0.4.5/generated/ignite.handlers.timing.Timer.html#timer). See its\n",
    "docstring for details."
   ],
   "metadata": {}
  }
 ],
 "metadata": {
  "kernelspec": {
   "display_name": "Python 3 (ipykernel)",
   "language": "python",
   "name": "python3"
  },
  "language_info": {
   "codemirror_mode": {
    "name": "ipython",
    "version": 3
   },
   "file_extension": ".py",
   "mimetype": "text/x-python",
   "name": "python",
   "nbconvert_exporter": "python",
   "pygments_lexer": "ipython3",
   "version": "3.8.8"
  }
 },
 "nbformat": 4,
 "nbformat_minor": 5
}