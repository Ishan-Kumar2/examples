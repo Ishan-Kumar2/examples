{
  "nbformat": 4,
  "nbformat_minor": 0,
  "metadata": {
    "kernelspec": {
      "display_name": "Python 3",
      "language": "python",
      "name": "python3"
    },
    "language_info": {
      "codemirror_mode": {
        "name": "ipython",
        "version": 3
      },
      "file_extension": ".py",
      "mimetype": "text/x-python",
      "name": "python",
      "nbconvert_exporter": "python",
      "pygments_lexer": "ipython3",
      "version": "3.7.9"
    },
    "colab": {
      "name": "time-profiling.ipynb",
      "provenance": [],
      "collapsed_sections": []
    },
    "accelerator": "GPU"
  },
  "cells": [
    {
      "cell_type": "markdown",
      "metadata": {
        "id": "_1FzCFk3a1S3"
      },
      "source": [
        "<!-- ---\n",
        "title: How to do time profiling\n",
        "downloads: true\n",
        "sidebar: true\n",
        "tags:\n",
        "  - time-profiling\n",
        "  - BasicTimeProfiler\n",
        "  - Timer\n",
        "  - HandlersTimeProfiler\n",
        "--- -->\n",
        "# How to do time profiling"
      ]
    },
    {
      "cell_type": "markdown",
      "metadata": {
        "id": "2J7z60CkssXg"
      },
      "source": [
        "This example demonstrates how you can get the time breakdown for:\n",
        "- All epochs during training\n",
        "- Individual `Events`\n",
        "- All `Handlers` correspoding to an `Event`\n",
        "- Individual `Handlers`\n",
        "- Data loading and Data processing.\n",
        "\n",
        "In this example, we will be using a ResNet18 model on the MNIST dataset. The base code is the same as used in the Getting Started Guide."
      ]
    },
    {
      "cell_type": "markdown",
      "metadata": {
        "id": "THcUNAgpWMDF"
      },
      "source": [
        "## Basic Setup"
      ]
    },
    {
      "cell_type": "code",
      "metadata": {
        "pycharm": {
          "is_executing": false
        },
        "id": "Y0sJP9iFa1TB"
      },
      "source": [
        "import pandas as pd\n",
        "\n",
        "import torch\n",
        "from torch import nn\n",
        "from torch.utils.data import DataLoader\n",
        "from torchvision.datasets import MNIST\n",
        "from torchvision.models import resnet18\n",
        "from torchvision.transforms import Compose, Normalize, ToTensor\n",
        "\n",
        "from ignite.engine import Events, create_supervised_trainer, create_supervised_evaluator\n",
        "from ignite.metrics import Accuracy, Loss\n",
        "from ignite.handlers import Timer\n",
        "from ignite.contrib.handlers import BasicTimeProfiler, HandlersTimeProfiler"
      ],
      "execution_count": 3,
      "outputs": []
    },
    {
      "cell_type": "code",
      "metadata": {
        "id": "iK_9cOP6a1TI"
      },
      "source": [
        "device = torch.device(\"cuda\" if torch.cuda.is_available() else \"cpu\")\n",
        "\n",
        "\n",
        "class Net(nn.Module):\n",
        "    def __init__(self):\n",
        "        super(Net, self).__init__()\n",
        "\n",
        "        self.model = resnet18(num_classes=10)\n",
        "        self.model.conv1 = nn.Conv2d(1, 64, kernel_size=3, padding=1, bias=False)\n",
        "\n",
        "    def forward(self, x):\n",
        "        return self.model(x)\n",
        "\n",
        "\n",
        "model = Net().to(device)\n",
        "\n",
        "data_transform = Compose([ToTensor(), Normalize((0.1307,), (0.3081,))])\n",
        "\n",
        "train_loader = DataLoader(\n",
        "    MNIST(download=True, root=\".\", transform=data_transform, train=True),\n",
        "    batch_size=128,\n",
        "    shuffle=True,\n",
        ")\n",
        "\n",
        "val_loader = DataLoader(\n",
        "    MNIST(download=True, root=\".\", transform=data_transform, train=False),\n",
        "    batch_size=256,\n",
        "    shuffle=False,\n",
        ")\n",
        "\n",
        "optimizer = torch.optim.RMSprop(model.parameters(), lr=0.005)\n",
        "criterion = nn.CrossEntropyLoss()"
      ],
      "execution_count": null,
      "outputs": []
    },
    {
      "cell_type": "markdown",
      "metadata": {
        "id": "WUHh-vc73eut"
      },
      "source": [
        "We attach two handlers to the `trainer` to print out the metrics ([`Accuracy`](https://pytorch.org/ignite/generated/ignite.metrics.Accuracy.html#accuracy) and [`Loss`](https://pytorch.org/ignite/generated/ignite.metrics.Loss.html#loss)) of the train and validation dataset at the end of every epoch."
      ]
    },
    {
      "cell_type": "code",
      "metadata": {
        "id": "ItoswUK-23St"
      },
      "source": [
        "trainer = create_supervised_trainer(model, optimizer, criterion, device=device)\n",
        "evaluator = create_supervised_evaluator(\n",
        "    model, metrics={\"accuracy\": Accuracy(), \"loss\": Loss(criterion)}, device=device\n",
        ")\n",
        "\n",
        "\n",
        "@trainer.on(Events.EPOCH_COMPLETED)\n",
        "def log_training_results(trainer):\n",
        "    evaluator.run(train_loader)\n",
        "    metrics = evaluator.state.metrics\n",
        "    print(\n",
        "        f\"Training Results - Epoch[{trainer.state.epoch}] Avg accuracy: {metrics['accuracy']:.2f} Avg loss: {metrics['loss']:.2f}\"\n",
        "    )\n",
        "\n",
        "\n",
        "@trainer.on(Events.EPOCH_COMPLETED)\n",
        "def log_validation_results(trainer):\n",
        "    evaluator.run(val_loader)\n",
        "    metrics = evaluator.state.metrics\n",
        "    print(\n",
        "        f\"Validation Results - Epoch[{trainer.state.epoch}] Avg accuracy: {metrics['accuracy']:.2f} Avg loss: {metrics['loss']:.2f}\"\n",
        "    )"
      ],
      "execution_count": 5,
      "outputs": []
    },
    {
      "cell_type": "markdown",
      "metadata": {
        "id": "kTD4UFuZWUSe"
      },
      "source": [
        "## Using `State` of Events\n",
        "\n",
        "If we just want to print the time taken for every epoch and the total time for training we can simply use the `trainer`'s [`State`](https://pytorch.org/ignite/generated/ignite.engine.events.State.html#ignite.engine.events.State). We attach two separate handlers fired when an epoch is completed and when the training is completed to log the time returned by `trainer.state.times`."
      ]
    },
    {
      "cell_type": "code",
      "metadata": {
        "id": "2m1pOALZ3vCO"
      },
      "source": [
        "@trainer.on(Events.EPOCH_COMPLETED)\n",
        "def log_epoch_time():\n",
        "    print(\n",
        "        f\"Epoch {trainer.state.epoch}, Time Taken : {trainer.state.times['EPOCH_COMPLETED']}\"\n",
        "    )\n",
        "\n",
        "\n",
        "@trainer.on(Events.COMPLETED)\n",
        "def log_total_time():\n",
        "    print(f\"Total Time: {trainer.state.times['COMPLETED']}\")"
      ],
      "execution_count": 6,
      "outputs": []
    },
    {
      "cell_type": "code",
      "metadata": {
        "colab": {
          "base_uri": "https://localhost:8080/"
        },
        "id": "hmdHZIDIABc9",
        "outputId": "f2ce518c-165e-42d8-8172-c847babb4b33"
      },
      "source": [
        "trainer.run(train_loader, max_epochs=2)"
      ],
      "execution_count": 7,
      "outputs": [
        {
          "output_type": "stream",
          "text": [
            "Training Results - Epoch[1] Avg accuracy: 0.95 Avg loss: 0.19\n",
            "Validation Results - Epoch[1] Avg accuracy: 0.95 Avg loss: 0.18\n",
            "Epoch 1, Time Taken : 30.887829065322876\n",
            "Training Results - Epoch[2] Avg accuracy: 0.98 Avg loss: 0.05\n",
            "Validation Results - Epoch[2] Avg accuracy: 0.98 Avg loss: 0.05\n",
            "Epoch 2, Time Taken : 30.8903865814209\n",
            "Total Time: 90.81205654144287\n"
          ],
          "name": "stdout"
        },
        {
          "output_type": "execute_result",
          "data": {
            "text/plain": [
              "State:\n",
              "\titeration: 938\n",
              "\tepoch: 2\n",
              "\tepoch_length: 469\n",
              "\tmax_epochs: 2\n",
              "\toutput: 0.04038083925843239\n",
              "\tbatch: <class 'list'>\n",
              "\tmetrics: <class 'dict'>\n",
              "\tdataloader: <class 'torch.utils.data.dataloader.DataLoader'>\n",
              "\tseed: <class 'NoneType'>\n",
              "\ttimes: <class 'dict'>"
            ]
          },
          "metadata": {
            "tags": []
          },
          "execution_count": 7
        }
      ]
    },
    {
      "cell_type": "markdown",
      "metadata": {
        "id": "IlT7TUokNIQ7"
      },
      "source": [
        "## Event-based profiling using `BasicTimeProfiler`\n",
        "\n",
        "If we want more information such as the time taken by data processing, data loading and all pre-defined events, we can use [`BasicTimeProfiler()`](https://pytorch.org/ignite/generated/ignite.contrib.handlers.time_profilers.BasicTimeProfiler.html#basictimeprofiler)."
      ]
    },
    {
      "cell_type": "code",
      "metadata": {
        "id": "dU37erdra1TK",
        "colab": {
          "base_uri": "https://localhost:8080/"
        },
        "outputId": "6664885a-4188-4305-dbbf-17c105d14990"
      },
      "source": [
        "# Attach basic profiler\n",
        "basic_profiler = BasicTimeProfiler()\n",
        "basic_profiler.attach(trainer)\n",
        "\n",
        "trainer.run(train_loader, max_epochs=2)"
      ],
      "execution_count": 8,
      "outputs": [
        {
          "output_type": "stream",
          "text": [
            "Training Results - Epoch[1] Avg accuracy: 0.99 Avg loss: 0.03\n",
            "Validation Results - Epoch[1] Avg accuracy: 0.99 Avg loss: 0.04\n",
            "Epoch 1, Time Taken : 30.75150728225708\n",
            "Training Results - Epoch[2] Avg accuracy: 0.99 Avg loss: 0.04\n",
            "Validation Results - Epoch[2] Avg accuracy: 0.99 Avg loss: 0.04\n",
            "Epoch 2, Time Taken : 30.99610710144043\n",
            "Total Time: 90.9643816947937\n"
          ],
          "name": "stdout"
        },
        {
          "output_type": "execute_result",
          "data": {
            "text/plain": [
              "State:\n",
              "\titeration: 938\n",
              "\tepoch: 2\n",
              "\tepoch_length: 469\n",
              "\tmax_epochs: 2\n",
              "\toutput: 0.02857031859457493\n",
              "\tbatch: <class 'list'>\n",
              "\tmetrics: <class 'dict'>\n",
              "\tdataloader: <class 'torch.utils.data.dataloader.DataLoader'>\n",
              "\tseed: <class 'NoneType'>\n",
              "\ttimes: <class 'dict'>"
            ]
          },
          "metadata": {
            "tags": []
          },
          "execution_count": 8
        }
      ]
    },
    {
      "cell_type": "markdown",
      "metadata": {
        "id": "1zGDVT4ACJSN"
      },
      "source": [
        "We can then obtain the results dictionary via [`get_results()`](https://pytorch.org/ignite/generated/ignite.contrib.handlers.time_profilers.BasicTimeProfiler.html#ignite.contrib.handlers.time_profilers.BasicTimeProfiler.get_results) and pass it to [`print_results()`](https://pytorch.org/ignite/generated/ignite.contrib.handlers.time_profilers.BasicTimeProfiler.html#ignite.contrib.handlers.time_profilers.BasicTimeProfiler.print_results) to get a nicely formatted output which contains total, minimum, maximum, mean and the standard deviation of the time taken."
      ]
    },
    {
      "cell_type": "code",
      "metadata": {
        "colab": {
          "base_uri": "https://localhost:8080/",
          "height": 685
        },
        "id": "dPxd8R82BfKZ",
        "outputId": "b1f56e28-0b1c-4347-9545-91c3f5e045aa"
      },
      "source": [
        "results = basic_profiler.get_results()\n",
        "basic_profiler.print_results(results)"
      ],
      "execution_count": 9,
      "outputs": [
        {
          "output_type": "stream",
          "text": [
            "\n",
            " ----------------------------------------------------\n",
            "| Time profiling stats (in seconds):                 |\n",
            " ----------------------------------------------------\n",
            "total  |  min/index  |  max/index  |  mean  |  std\n",
            "\n",
            "Processing function:\n",
            "46.29968 | 0.04044/937 | 0.08740/0 | 0.04936 | 0.00196\n",
            "\n",
            "Dataflow:\n",
            "15.35097 | 0.01235/936 | 0.02857/124 | 0.01637 | 0.00156\n",
            "\n",
            "Event handlers:\n",
            "29.22784\n",
            "\n",
            "- Events.STARTED: []\n",
            "0.00001\n",
            "\n",
            "- Events.EPOCH_STARTED: []\n",
            "0.00001 | 0.00000/1 | 0.00001/0 | 0.00000 | 0.00000\n",
            "\n",
            "- Events.ITERATION_STARTED: []\n",
            "0.00213 | 0.00000/221 | 0.00002/703 | 0.00000 | 0.00000\n",
            "\n",
            "- Events.ITERATION_COMPLETED: []\n",
            "0.00317 | 0.00000/54 | 0.00002/30 | 0.00000 | 0.00000\n",
            "\n",
            "- Events.EPOCH_COMPLETED: ['log_training_results', 'log_validation_results', 'log_epoch_time']\n",
            "29.21511 | 14.52231/1 | 14.69281/0 | 14.60756 | 0.12056\n",
            "\n",
            "- Events.COMPLETED: ['log_total_time']\n",
            "0.00004\n",
            "\n"
          ],
          "name": "stdout"
        },
        {
          "output_type": "execute_result",
          "data": {
            "application/vnd.google.colaboratory.intrinsic+json": {
              "type": "string"
            },
            "text/plain": [
              "\"\\n ----------------------------------------------------\\n| Time profiling stats (in seconds):                 |\\n ----------------------------------------------------\\ntotal  |  min/index  |  max/index  |  mean  |  std\\n\\nProcessing function:\\n46.29968 | 0.04044/937 | 0.08740/0 | 0.04936 | 0.00196\\n\\nDataflow:\\n15.35097 | 0.01235/936 | 0.02857/124 | 0.01637 | 0.00156\\n\\nEvent handlers:\\n29.22784\\n\\n- Events.STARTED: []\\n0.00001\\n\\n- Events.EPOCH_STARTED: []\\n0.00001 | 0.00000/1 | 0.00001/0 | 0.00000 | 0.00000\\n\\n- Events.ITERATION_STARTED: []\\n0.00213 | 0.00000/221 | 0.00002/703 | 0.00000 | 0.00000\\n\\n- Events.ITERATION_COMPLETED: []\\n0.00317 | 0.00000/54 | 0.00002/30 | 0.00000 | 0.00000\\n\\n- Events.EPOCH_COMPLETED: ['log_training_results', 'log_validation_results', 'log_epoch_time']\\n29.21511 | 14.52231/1 | 14.69281/0 | 14.60756 | 0.12056\\n\\n- Events.COMPLETED: ['log_total_time']\\n0.00004\\n\""
            ]
          },
          "metadata": {
            "tags": []
          },
          "execution_count": 9
        }
      ]
    },
    {
      "cell_type": "markdown",
      "metadata": {
        "id": "YFzTSk-EChQd"
      },
      "source": [
        "**Note**: This approach does not get the time taken by an individual handler rather the sum of the time taken by all handlers corresponding to a pre-defined event."
      ]
    },
    {
      "cell_type": "markdown",
      "metadata": {
        "id": "orRhb-Z1N8vq"
      },
      "source": [
        "## Handler-based profiling using `HandlersTimeProfiler`\n",
        "\n",
        "We can overcome the above problem by using [`HandlersTimeProfiler`](https://pytorch.org/ignite/generated/ignite.contrib.handlers.time_profilers.HandlersTimeProfiler.html#handlerstimeprofiler) which gives us only the necessary information. We can also calculate the time taken by handlers attached to [`Custom Events`](https://pytorch.org/ignite/concepts.html#custom-events), which was not previously possible, via this."
      ]
    },
    {
      "cell_type": "code",
      "metadata": {
        "id": "zdWobxOs_nuO"
      },
      "source": [
        "# Attach handlers profiler\n",
        "handlers_profiler = HandlersTimeProfiler()\n",
        "handlers_profiler.attach(trainer)"
      ],
      "execution_count": 10,
      "outputs": []
    },
    {
      "cell_type": "code",
      "metadata": {
        "colab": {
          "base_uri": "https://localhost:8080/"
        },
        "id": "ZJd487jMBqw2",
        "outputId": "5d6e86bd-773c-4bb1-9e0a-6dac8d7ef810"
      },
      "source": [
        "trainer.run(train_loader, max_epochs=2)"
      ],
      "execution_count": 11,
      "outputs": [
        {
          "output_type": "stream",
          "text": [
            "Training Results - Epoch[1] Avg accuracy: 0.99 Avg loss: 0.03\n",
            "Validation Results - Epoch[1] Avg accuracy: 0.99 Avg loss: 0.04\n",
            "Epoch 1, Time Taken : 31.178053617477417\n",
            "Training Results - Epoch[2] Avg accuracy: 0.99 Avg loss: 0.02\n",
            "Validation Results - Epoch[2] Avg accuracy: 0.99 Avg loss: 0.04\n",
            "Epoch 2, Time Taken : 31.31934642791748\n",
            "Total Time: 91.76212525367737\n"
          ],
          "name": "stdout"
        },
        {
          "output_type": "execute_result",
          "data": {
            "text/plain": [
              "State:\n",
              "\titeration: 938\n",
              "\tepoch: 2\n",
              "\tepoch_length: 469\n",
              "\tmax_epochs: 2\n",
              "\toutput: 0.030506571754813194\n",
              "\tbatch: <class 'list'>\n",
              "\tmetrics: <class 'dict'>\n",
              "\tdataloader: <class 'torch.utils.data.dataloader.DataLoader'>\n",
              "\tseed: <class 'NoneType'>\n",
              "\ttimes: <class 'dict'>"
            ]
          },
          "metadata": {
            "tags": []
          },
          "execution_count": 11
        }
      ]
    },
    {
      "cell_type": "markdown",
      "metadata": {
        "id": "T_AIlhvqa1TK"
      },
      "source": [
        "We can print the results of the profiler in the same way as above. The output shows total, average and other details of execution time for each handler attached. It also shows the data processing and data loading times."
      ]
    },
    {
      "cell_type": "code",
      "metadata": {
        "id": "S8J8iWyUa1TL",
        "colab": {
          "base_uri": "https://localhost:8080/"
        },
        "outputId": "1eac6800-fe84-45d5-838a-94a788fd67f0"
      },
      "source": [
        "results = handlers_profiler.get_results()\n",
        "handlers_profiler.print_results(results)"
      ],
      "execution_count": 12,
      "outputs": [
        {
          "output_type": "stream",
          "text": [
            "\n",
            "---------------------------------------  -------------------  --------------  --------------  --------------  --------------  --------------  \n",
            "Handler                                  Event Name                 Total(s)      Min(s)/IDX      Max(s)/IDX         Mean(s)          Std(s)  \n",
            "---------------------------------------  -------------------  --------------  --------------  --------------  --------------  --------------  \n",
            "log_training_results                     EPOCH_COMPLETED              25.236      12.57144/0      12.66456/1          12.618         0.06584  \n",
            "log_validation_results                   EPOCH_COMPLETED             4.02691       1.97243/0       2.05448/1         2.01346         0.05802  \n",
            "log_epoch_time                           EPOCH_COMPLETED               7e-05         3e-05/0         4e-05/1           3e-05             0.0  \n",
            "BasicTimeProfiler._as_first_started      STARTED                     0.00093       0.00093/0       0.00093/0         0.00093            None  \n",
            "log_total_time                           COMPLETED                     3e-05         3e-05/0         3e-05/0           3e-05            None  \n",
            "---------------------------------------  -------------------  --------------  --------------  --------------  --------------  --------------  \n",
            "Total                                                               29.26394                                                                  \n",
            "---------------------------------------  -------------------  --------------  --------------  --------------  --------------  --------------  \n",
            "Processing took total 46.83185s [min/index: 0.0411s/468, max/index: 0.08742s/0, mean: 0.04993s, std: 0.00193s]\n",
            "Dataflow took total 15.58157s [min/index: 0.0125s/937, max/index: 0.0249s/668, mean: 0.01661s, std: 0.00146s]\n",
            "\n"
          ],
          "name": "stdout"
        }
      ]
    },
    {
      "cell_type": "markdown",
      "metadata": {
        "id": "F0yJpyC7a1TM"
      },
      "source": [
        "The profiling results obtained by `basic_profiler` and `handler_profiler` can be exported to a CSV file by using the `write_results()` method."
      ]
    },
    {
      "cell_type": "code",
      "metadata": {
        "id": "_6a0t-Xha1TM"
      },
      "source": [
        "basic_profiler.write_results(\"./basic_profile.csv\")\n",
        "handlers_profiler.write_results(\"./handlers_profile.csv\")"
      ],
      "execution_count": 13,
      "outputs": []
    },
    {
      "cell_type": "markdown",
      "metadata": {
        "id": "-hG8hYQba1TM"
      },
      "source": [
        "If we inspect the CSV file of `basic_profiler` we can see the depth of information stored for every iteration."
      ]
    },
    {
      "cell_type": "code",
      "metadata": {
        "id": "f4ZiVInXa1TO",
        "colab": {
          "base_uri": "https://localhost:8080/",
          "height": 226
        },
        "outputId": "25290338-496a-4e87-a591-7d106481a49f"
      },
      "source": [
        "basic_profile = pd.read_csv(\"./basic_profile.csv\")\n",
        "basic_profile.head()"
      ],
      "execution_count": 14,
      "outputs": [
        {
          "output_type": "execute_result",
          "data": {
            "text/html": [
              "<div>\n",
              "<style scoped>\n",
              "    .dataframe tbody tr th:only-of-type {\n",
              "        vertical-align: middle;\n",
              "    }\n",
              "\n",
              "    .dataframe tbody tr th {\n",
              "        vertical-align: top;\n",
              "    }\n",
              "\n",
              "    .dataframe thead th {\n",
              "        text-align: right;\n",
              "    }\n",
              "</style>\n",
              "<table border=\"1\" class=\"dataframe\">\n",
              "  <thead>\n",
              "    <tr style=\"text-align: right;\">\n",
              "      <th></th>\n",
              "      <th>epoch</th>\n",
              "      <th>iteration</th>\n",
              "      <th>processing_stats</th>\n",
              "      <th>dataflow_stats</th>\n",
              "      <th>Event_STARTED</th>\n",
              "      <th>Event_COMPLETED</th>\n",
              "      <th>Event_EPOCH_STARTED</th>\n",
              "      <th>Event_EPOCH_COMPLETED</th>\n",
              "      <th>Event_ITERATION_STARTED</th>\n",
              "      <th>Event_ITERATION_COMPLETED</th>\n",
              "      <th>Event_GET_BATCH_STARTED</th>\n",
              "      <th>Event_GET_BATCH_COMPLETED</th>\n",
              "    </tr>\n",
              "  </thead>\n",
              "  <tbody>\n",
              "    <tr>\n",
              "      <th>0</th>\n",
              "      <td>1.0</td>\n",
              "      <td>1.0</td>\n",
              "      <td>0.087367</td>\n",
              "      <td>0.016016</td>\n",
              "      <td>0.000021</td>\n",
              "      <td>0.000084</td>\n",
              "      <td>0.000004</td>\n",
              "      <td>14.543953</td>\n",
              "      <td>0.000003</td>\n",
              "      <td>0.000008</td>\n",
              "      <td>0.000005</td>\n",
              "      <td>0.000010</td>\n",
              "    </tr>\n",
              "    <tr>\n",
              "      <th>1</th>\n",
              "      <td>1.0</td>\n",
              "      <td>2.0</td>\n",
              "      <td>0.087184</td>\n",
              "      <td>0.024107</td>\n",
              "      <td>0.000021</td>\n",
              "      <td>0.000084</td>\n",
              "      <td>0.000004</td>\n",
              "      <td>14.543953</td>\n",
              "      <td>0.000004</td>\n",
              "      <td>0.000007</td>\n",
              "      <td>0.000004</td>\n",
              "      <td>0.000011</td>\n",
              "    </tr>\n",
              "    <tr>\n",
              "      <th>2</th>\n",
              "      <td>1.0</td>\n",
              "      <td>3.0</td>\n",
              "      <td>0.060560</td>\n",
              "      <td>0.016312</td>\n",
              "      <td>0.000021</td>\n",
              "      <td>0.000084</td>\n",
              "      <td>0.000004</td>\n",
              "      <td>14.543953</td>\n",
              "      <td>0.000003</td>\n",
              "      <td>0.000006</td>\n",
              "      <td>0.000004</td>\n",
              "      <td>0.000021</td>\n",
              "    </tr>\n",
              "    <tr>\n",
              "      <th>3</th>\n",
              "      <td>1.0</td>\n",
              "      <td>4.0</td>\n",
              "      <td>0.052990</td>\n",
              "      <td>0.016108</td>\n",
              "      <td>0.000021</td>\n",
              "      <td>0.000084</td>\n",
              "      <td>0.000004</td>\n",
              "      <td>14.543953</td>\n",
              "      <td>0.000003</td>\n",
              "      <td>0.000006</td>\n",
              "      <td>0.000004</td>\n",
              "      <td>0.000008</td>\n",
              "    </tr>\n",
              "    <tr>\n",
              "      <th>4</th>\n",
              "      <td>1.0</td>\n",
              "      <td>5.0</td>\n",
              "      <td>0.053011</td>\n",
              "      <td>0.017612</td>\n",
              "      <td>0.000021</td>\n",
              "      <td>0.000084</td>\n",
              "      <td>0.000004</td>\n",
              "      <td>14.543953</td>\n",
              "      <td>0.000003</td>\n",
              "      <td>0.000006</td>\n",
              "      <td>0.000006</td>\n",
              "      <td>0.000007</td>\n",
              "    </tr>\n",
              "  </tbody>\n",
              "</table>\n",
              "</div>"
            ],
            "text/plain": [
              "   epoch  iteration  ...  Event_GET_BATCH_STARTED  Event_GET_BATCH_COMPLETED\n",
              "0    1.0        1.0  ...                 0.000005                   0.000010\n",
              "1    1.0        2.0  ...                 0.000004                   0.000011\n",
              "2    1.0        3.0  ...                 0.000004                   0.000021\n",
              "3    1.0        4.0  ...                 0.000004                   0.000008\n",
              "4    1.0        5.0  ...                 0.000006                   0.000007\n",
              "\n",
              "[5 rows x 12 columns]"
            ]
          },
          "metadata": {
            "tags": []
          },
          "execution_count": 14
        }
      ]
    },
    {
      "cell_type": "markdown",
      "metadata": {
        "id": "Tj06RU9AON93"
      },
      "source": [
        "The `handlers_profile` CSV stores the details for whenever a handler was evoked which corresponds to the number of rows. "
      ]
    },
    {
      "cell_type": "code",
      "metadata": {
        "colab": {
          "base_uri": "https://localhost:8080/",
          "height": 224
        },
        "id": "GHCbe28yG0bB",
        "outputId": "1e59ec96-230b-485b-e40a-9d7ad193ec25"
      },
      "source": [
        "handlers_profile = pd.read_csv(\"./handlers_profile.csv\")\n",
        "handlers_profile.head()"
      ],
      "execution_count": 15,
      "outputs": [
        {
          "output_type": "execute_result",
          "data": {
            "text/html": [
              "<div>\n",
              "<style scoped>\n",
              "    .dataframe tbody tr th:only-of-type {\n",
              "        vertical-align: middle;\n",
              "    }\n",
              "\n",
              "    .dataframe tbody tr th {\n",
              "        vertical-align: top;\n",
              "    }\n",
              "\n",
              "    .dataframe thead th {\n",
              "        text-align: right;\n",
              "    }\n",
              "</style>\n",
              "<table border=\"1\" class=\"dataframe\">\n",
              "  <thead>\n",
              "    <tr style=\"text-align: right;\">\n",
              "      <th></th>\n",
              "      <th>#</th>\n",
              "      <th>processing_stats</th>\n",
              "      <th>dataflow_stats</th>\n",
              "      <th>log_training_results (EPOCH_COMPLETED)</th>\n",
              "      <th>log_validation_results (EPOCH_COMPLETED)</th>\n",
              "      <th>log_epoch_time (EPOCH_COMPLETED)</th>\n",
              "      <th>BasicTimeProfiler._as_first_started (STARTED)</th>\n",
              "      <th>log_total_time (COMPLETED)</th>\n",
              "    </tr>\n",
              "  </thead>\n",
              "  <tbody>\n",
              "    <tr>\n",
              "      <th>0</th>\n",
              "      <td>1.0</td>\n",
              "      <td>0.087421</td>\n",
              "      <td>0.020330</td>\n",
              "      <td>12.571441</td>\n",
              "      <td>1.97243</td>\n",
              "      <td>0.000032</td>\n",
              "      <td>0.00093</td>\n",
              "      <td>0.00003</td>\n",
              "    </tr>\n",
              "    <tr>\n",
              "      <th>1</th>\n",
              "      <td>2.0</td>\n",
              "      <td>0.087228</td>\n",
              "      <td>0.015991</td>\n",
              "      <td>12.664556</td>\n",
              "      <td>2.05448</td>\n",
              "      <td>0.000037</td>\n",
              "      <td>0.00000</td>\n",
              "      <td>0.00000</td>\n",
              "    </tr>\n",
              "    <tr>\n",
              "      <th>2</th>\n",
              "      <td>3.0</td>\n",
              "      <td>0.060598</td>\n",
              "      <td>0.024079</td>\n",
              "      <td>0.000000</td>\n",
              "      <td>0.00000</td>\n",
              "      <td>0.000000</td>\n",
              "      <td>0.00000</td>\n",
              "      <td>0.00000</td>\n",
              "    </tr>\n",
              "    <tr>\n",
              "      <th>3</th>\n",
              "      <td>4.0</td>\n",
              "      <td>0.053027</td>\n",
              "      <td>0.016274</td>\n",
              "      <td>0.000000</td>\n",
              "      <td>0.00000</td>\n",
              "      <td>0.000000</td>\n",
              "      <td>0.00000</td>\n",
              "      <td>0.00000</td>\n",
              "    </tr>\n",
              "    <tr>\n",
              "      <th>4</th>\n",
              "      <td>5.0</td>\n",
              "      <td>0.053047</td>\n",
              "      <td>0.016084</td>\n",
              "      <td>0.000000</td>\n",
              "      <td>0.00000</td>\n",
              "      <td>0.000000</td>\n",
              "      <td>0.00000</td>\n",
              "      <td>0.00000</td>\n",
              "    </tr>\n",
              "  </tbody>\n",
              "</table>\n",
              "</div>"
            ],
            "text/plain": [
              "     #  ...  log_total_time (COMPLETED)\n",
              "0  1.0  ...                     0.00003\n",
              "1  2.0  ...                     0.00000\n",
              "2  3.0  ...                     0.00000\n",
              "3  4.0  ...                     0.00000\n",
              "4  5.0  ...                     0.00000\n",
              "\n",
              "[5 rows x 8 columns]"
            ]
          },
          "metadata": {
            "tags": []
          },
          "execution_count": 15
        }
      ]
    },
    {
      "cell_type": "markdown",
      "metadata": {
        "id": "HWsePEmAWNmP"
      },
      "source": [
        "## Custom profiling using Timer\n",
        "\n",
        "At the lowest level of abstraction, we provide [`Timer()`](https://pytorch.org/ignite/generated/ignite.handlers.timing.Timer.html#timer) to calculate the time between any set of events. See its docstring for details."
      ]
    }
  ]
}