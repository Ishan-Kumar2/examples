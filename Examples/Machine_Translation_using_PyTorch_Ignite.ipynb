{
  "nbformat": 4,
  "nbformat_minor": 0,
  "metadata": {
    "accelerator": "GPU",
    "colab": {
      "name": "Machine Translation using PyTorch Ignite.ipynb",
      "provenance": [],
      "collapsed_sections": [],
      "include_colab_link": true
    },
    "kernelspec": {
      "display_name": "Python 3",
      "name": "python3"
    },
    "language_info": {
      "name": "python"
    },
    "widgets": {
      "application/vnd.jupyter.widget-state+json": {
        "24ff46abd0e64ca18ffb6a490e706575": {
          "model_module": "@jupyter-widgets/controls",
          "model_name": "HBoxModel",
          "model_module_version": "1.5.0",
          "state": {
            "_view_name": "HBoxView",
            "_dom_classes": [],
            "_model_name": "HBoxModel",
            "_view_module": "@jupyter-widgets/controls",
            "_model_module_version": "1.5.0",
            "_view_count": null,
            "_view_module_version": "1.5.0",
            "box_style": "",
            "layout": "IPY_MODEL_4ecea6d140c64857aa422178ffb2f640",
            "_model_module": "@jupyter-widgets/controls",
            "children": [
              "IPY_MODEL_bc7441cefb094f3f8a2a13e8419181ff",
              "IPY_MODEL_d99f2fe400f343f7a41c83fed477ca4a",
              "IPY_MODEL_acde2826d0c24d5b8ff031494ff69b6e"
            ]
          }
        },
        "4ecea6d140c64857aa422178ffb2f640": {
          "model_module": "@jupyter-widgets/base",
          "model_name": "LayoutModel",
          "model_module_version": "1.2.0",
          "state": {
            "_view_name": "LayoutView",
            "grid_template_rows": null,
            "right": null,
            "justify_content": null,
            "_view_module": "@jupyter-widgets/base",
            "overflow": null,
            "_model_module_version": "1.2.0",
            "_view_count": null,
            "flex_flow": null,
            "width": null,
            "min_width": null,
            "border": null,
            "align_items": null,
            "bottom": null,
            "_model_module": "@jupyter-widgets/base",
            "top": null,
            "grid_column": null,
            "overflow_y": null,
            "overflow_x": null,
            "grid_auto_flow": null,
            "grid_area": null,
            "grid_template_columns": null,
            "flex": null,
            "_model_name": "LayoutModel",
            "justify_items": null,
            "grid_row": null,
            "max_height": null,
            "align_content": null,
            "visibility": null,
            "align_self": null,
            "height": null,
            "min_height": null,
            "padding": null,
            "grid_auto_rows": null,
            "grid_gap": null,
            "max_width": null,
            "order": null,
            "_view_module_version": "1.2.0",
            "grid_template_areas": null,
            "object_position": null,
            "object_fit": null,
            "grid_auto_columns": null,
            "margin": null,
            "display": null,
            "left": null
          }
        },
        "bc7441cefb094f3f8a2a13e8419181ff": {
          "model_module": "@jupyter-widgets/controls",
          "model_name": "HTMLModel",
          "model_module_version": "1.5.0",
          "state": {
            "_view_name": "HTMLView",
            "style": "IPY_MODEL_3e78fb26fb984d9a8fb243eaff4d392a",
            "_dom_classes": [],
            "description": "",
            "_model_name": "HTMLModel",
            "placeholder": "​",
            "_view_module": "@jupyter-widgets/controls",
            "_model_module_version": "1.5.0",
            "value": "100%",
            "_view_count": null,
            "_view_module_version": "1.5.0",
            "description_tooltip": null,
            "_model_module": "@jupyter-widgets/controls",
            "layout": "IPY_MODEL_a45b3ae308f74b6e8f99751fcf5239a5"
          }
        },
        "d99f2fe400f343f7a41c83fed477ca4a": {
          "model_module": "@jupyter-widgets/controls",
          "model_name": "FloatProgressModel",
          "model_module_version": "1.5.0",
          "state": {
            "_view_name": "ProgressView",
            "style": "IPY_MODEL_fa0ce9a85b1543598f225129285c54d8",
            "_dom_classes": [],
            "description": "",
            "_model_name": "FloatProgressModel",
            "bar_style": "success",
            "max": 3,
            "_view_module": "@jupyter-widgets/controls",
            "_model_module_version": "1.5.0",
            "value": 3,
            "_view_count": null,
            "_view_module_version": "1.5.0",
            "orientation": "horizontal",
            "min": 0,
            "description_tooltip": null,
            "_model_module": "@jupyter-widgets/controls",
            "layout": "IPY_MODEL_ba624139c2b44a328dbc5d8d70b5d5a8"
          }
        },
        "acde2826d0c24d5b8ff031494ff69b6e": {
          "model_module": "@jupyter-widgets/controls",
          "model_name": "HTMLModel",
          "model_module_version": "1.5.0",
          "state": {
            "_view_name": "HTMLView",
            "style": "IPY_MODEL_28f19a0883a74043ba36f546b812d413",
            "_dom_classes": [],
            "description": "",
            "_model_name": "HTMLModel",
            "placeholder": "​",
            "_view_module": "@jupyter-widgets/controls",
            "_model_module_version": "1.5.0",
            "value": " 3/3 [00:00&lt;00:00, 52.66it/s]",
            "_view_count": null,
            "_view_module_version": "1.5.0",
            "description_tooltip": null,
            "_model_module": "@jupyter-widgets/controls",
            "layout": "IPY_MODEL_5ae92555c0a14def8c411eabb524e40b"
          }
        },
        "3e78fb26fb984d9a8fb243eaff4d392a": {
          "model_module": "@jupyter-widgets/controls",
          "model_name": "DescriptionStyleModel",
          "model_module_version": "1.5.0",
          "state": {
            "_view_name": "StyleView",
            "_model_name": "DescriptionStyleModel",
            "description_width": "",
            "_view_module": "@jupyter-widgets/base",
            "_model_module_version": "1.5.0",
            "_view_count": null,
            "_view_module_version": "1.2.0",
            "_model_module": "@jupyter-widgets/controls"
          }
        },
        "a45b3ae308f74b6e8f99751fcf5239a5": {
          "model_module": "@jupyter-widgets/base",
          "model_name": "LayoutModel",
          "model_module_version": "1.2.0",
          "state": {
            "_view_name": "LayoutView",
            "grid_template_rows": null,
            "right": null,
            "justify_content": null,
            "_view_module": "@jupyter-widgets/base",
            "overflow": null,
            "_model_module_version": "1.2.0",
            "_view_count": null,
            "flex_flow": null,
            "width": null,
            "min_width": null,
            "border": null,
            "align_items": null,
            "bottom": null,
            "_model_module": "@jupyter-widgets/base",
            "top": null,
            "grid_column": null,
            "overflow_y": null,
            "overflow_x": null,
            "grid_auto_flow": null,
            "grid_area": null,
            "grid_template_columns": null,
            "flex": null,
            "_model_name": "LayoutModel",
            "justify_items": null,
            "grid_row": null,
            "max_height": null,
            "align_content": null,
            "visibility": null,
            "align_self": null,
            "height": null,
            "min_height": null,
            "padding": null,
            "grid_auto_rows": null,
            "grid_gap": null,
            "max_width": null,
            "order": null,
            "_view_module_version": "1.2.0",
            "grid_template_areas": null,
            "object_position": null,
            "object_fit": null,
            "grid_auto_columns": null,
            "margin": null,
            "display": null,
            "left": null
          }
        },
        "fa0ce9a85b1543598f225129285c54d8": {
          "model_module": "@jupyter-widgets/controls",
          "model_name": "ProgressStyleModel",
          "model_module_version": "1.5.0",
          "state": {
            "_view_name": "StyleView",
            "_model_name": "ProgressStyleModel",
            "description_width": "",
            "_view_module": "@jupyter-widgets/base",
            "_model_module_version": "1.5.0",
            "_view_count": null,
            "_view_module_version": "1.2.0",
            "bar_color": null,
            "_model_module": "@jupyter-widgets/controls"
          }
        },
        "ba624139c2b44a328dbc5d8d70b5d5a8": {
          "model_module": "@jupyter-widgets/base",
          "model_name": "LayoutModel",
          "model_module_version": "1.2.0",
          "state": {
            "_view_name": "LayoutView",
            "grid_template_rows": null,
            "right": null,
            "justify_content": null,
            "_view_module": "@jupyter-widgets/base",
            "overflow": null,
            "_model_module_version": "1.2.0",
            "_view_count": null,
            "flex_flow": null,
            "width": null,
            "min_width": null,
            "border": null,
            "align_items": null,
            "bottom": null,
            "_model_module": "@jupyter-widgets/base",
            "top": null,
            "grid_column": null,
            "overflow_y": null,
            "overflow_x": null,
            "grid_auto_flow": null,
            "grid_area": null,
            "grid_template_columns": null,
            "flex": null,
            "_model_name": "LayoutModel",
            "justify_items": null,
            "grid_row": null,
            "max_height": null,
            "align_content": null,
            "visibility": null,
            "align_self": null,
            "height": null,
            "min_height": null,
            "padding": null,
            "grid_auto_rows": null,
            "grid_gap": null,
            "max_width": null,
            "order": null,
            "_view_module_version": "1.2.0",
            "grid_template_areas": null,
            "object_position": null,
            "object_fit": null,
            "grid_auto_columns": null,
            "margin": null,
            "display": null,
            "left": null
          }
        },
        "28f19a0883a74043ba36f546b812d413": {
          "model_module": "@jupyter-widgets/controls",
          "model_name": "DescriptionStyleModel",
          "model_module_version": "1.5.0",
          "state": {
            "_view_name": "StyleView",
            "_model_name": "DescriptionStyleModel",
            "description_width": "",
            "_view_module": "@jupyter-widgets/base",
            "_model_module_version": "1.5.0",
            "_view_count": null,
            "_view_module_version": "1.2.0",
            "_model_module": "@jupyter-widgets/controls"
          }
        },
        "5ae92555c0a14def8c411eabb524e40b": {
          "model_module": "@jupyter-widgets/base",
          "model_name": "LayoutModel",
          "model_module_version": "1.2.0",
          "state": {
            "_view_name": "LayoutView",
            "grid_template_rows": null,
            "right": null,
            "justify_content": null,
            "_view_module": "@jupyter-widgets/base",
            "overflow": null,
            "_model_module_version": "1.2.0",
            "_view_count": null,
            "flex_flow": null,
            "width": null,
            "min_width": null,
            "border": null,
            "align_items": null,
            "bottom": null,
            "_model_module": "@jupyter-widgets/base",
            "top": null,
            "grid_column": null,
            "overflow_y": null,
            "overflow_x": null,
            "grid_auto_flow": null,
            "grid_area": null,
            "grid_template_columns": null,
            "flex": null,
            "_model_name": "LayoutModel",
            "justify_items": null,
            "grid_row": null,
            "max_height": null,
            "align_content": null,
            "visibility": null,
            "align_self": null,
            "height": null,
            "min_height": null,
            "padding": null,
            "grid_auto_rows": null,
            "grid_gap": null,
            "max_width": null,
            "order": null,
            "_view_module_version": "1.2.0",
            "grid_template_areas": null,
            "object_position": null,
            "object_fit": null,
            "grid_auto_columns": null,
            "margin": null,
            "display": null,
            "left": null
          }
        },
        "e0bfe77d9c1d462c8d9b237a93bc4ec5": {
          "model_module": "@jupyter-widgets/controls",
          "model_name": "HBoxModel",
          "model_module_version": "1.5.0",
          "state": {
            "_view_name": "HBoxView",
            "_dom_classes": [],
            "_model_name": "HBoxModel",
            "_view_module": "@jupyter-widgets/controls",
            "_model_module_version": "1.5.0",
            "_view_count": null,
            "_view_module_version": "1.5.0",
            "box_style": "",
            "layout": "IPY_MODEL_b006d9b2d6bc4e54ab78ba86c75e3724",
            "_model_module": "@jupyter-widgets/controls",
            "children": [
              "IPY_MODEL_8fa36ecbc58849f9a7e9fe91837069ed",
              "IPY_MODEL_005289d8e13f4be0821627837e5b1c55",
              "IPY_MODEL_1711d614ec6f48b693e198a6f704f81e"
            ]
          }
        },
        "b006d9b2d6bc4e54ab78ba86c75e3724": {
          "model_module": "@jupyter-widgets/base",
          "model_name": "LayoutModel",
          "model_module_version": "1.2.0",
          "state": {
            "_view_name": "LayoutView",
            "grid_template_rows": null,
            "right": null,
            "justify_content": null,
            "_view_module": "@jupyter-widgets/base",
            "overflow": null,
            "_model_module_version": "1.2.0",
            "_view_count": null,
            "flex_flow": null,
            "width": null,
            "min_width": null,
            "border": null,
            "align_items": null,
            "bottom": null,
            "_model_module": "@jupyter-widgets/base",
            "top": null,
            "grid_column": null,
            "overflow_y": null,
            "overflow_x": null,
            "grid_auto_flow": null,
            "grid_area": null,
            "grid_template_columns": null,
            "flex": null,
            "_model_name": "LayoutModel",
            "justify_items": null,
            "grid_row": null,
            "max_height": null,
            "align_content": null,
            "visibility": null,
            "align_self": null,
            "height": null,
            "min_height": null,
            "padding": null,
            "grid_auto_rows": null,
            "grid_gap": null,
            "max_width": null,
            "order": null,
            "_view_module_version": "1.2.0",
            "grid_template_areas": null,
            "object_position": null,
            "object_fit": null,
            "grid_auto_columns": null,
            "margin": null,
            "display": null,
            "left": null
          }
        },
        "8fa36ecbc58849f9a7e9fe91837069ed": {
          "model_module": "@jupyter-widgets/controls",
          "model_name": "HTMLModel",
          "model_module_version": "1.5.0",
          "state": {
            "_view_name": "HTMLView",
            "style": "IPY_MODEL_c589b9d0eb62408cbacc1ec96d72f3a9",
            "_dom_classes": [],
            "description": "",
            "_model_name": "HTMLModel",
            "placeholder": "​",
            "_view_module": "@jupyter-widgets/controls",
            "_model_module_version": "1.5.0",
            "value": "Epoch:  20%",
            "_view_count": null,
            "_view_module_version": "1.5.0",
            "description_tooltip": null,
            "_model_module": "@jupyter-widgets/controls",
            "layout": "IPY_MODEL_7ab1b6d1cf8e4cd098993f670a918ea7"
          }
        },
        "005289d8e13f4be0821627837e5b1c55": {
          "model_module": "@jupyter-widgets/controls",
          "model_name": "FloatProgressModel",
          "model_module_version": "1.5.0",
          "state": {
            "_view_name": "ProgressView",
            "style": "IPY_MODEL_046f83d5836a4a019128f6ba13ad0f7a",
            "_dom_classes": [],
            "description": "",
            "_model_name": "FloatProgressModel",
            "bar_style": "",
            "max": 5,
            "_view_module": "@jupyter-widgets/controls",
            "_model_module_version": "1.5.0",
            "value": 1,
            "_view_count": null,
            "_view_module_version": "1.5.0",
            "orientation": "horizontal",
            "min": 0,
            "description_tooltip": null,
            "_model_module": "@jupyter-widgets/controls",
            "layout": "IPY_MODEL_72cba003886b4a9ea8c645c5caaa2081"
          }
        },
        "1711d614ec6f48b693e198a6f704f81e": {
          "model_module": "@jupyter-widgets/controls",
          "model_name": "HTMLModel",
          "model_module_version": "1.5.0",
          "state": {
            "_view_name": "HTMLView",
            "style": "IPY_MODEL_f6f20fb19c904eea8d19bc0b19b24772",
            "_dom_classes": [],
            "description": "",
            "_model_name": "HTMLModel",
            "placeholder": "​",
            "_view_module": "@jupyter-widgets/controls",
            "_model_module_version": "1.5.0",
            "value": " 1/5 [00:00&lt;?, ?it/s]",
            "_view_count": null,
            "_view_module_version": "1.5.0",
            "description_tooltip": null,
            "_model_module": "@jupyter-widgets/controls",
            "layout": "IPY_MODEL_20e4cf7403ad48eb91a5b0bc823cc91c"
          }
        },
        "c589b9d0eb62408cbacc1ec96d72f3a9": {
          "model_module": "@jupyter-widgets/controls",
          "model_name": "DescriptionStyleModel",
          "model_module_version": "1.5.0",
          "state": {
            "_view_name": "StyleView",
            "_model_name": "DescriptionStyleModel",
            "description_width": "",
            "_view_module": "@jupyter-widgets/base",
            "_model_module_version": "1.5.0",
            "_view_count": null,
            "_view_module_version": "1.2.0",
            "_model_module": "@jupyter-widgets/controls"
          }
        },
        "7ab1b6d1cf8e4cd098993f670a918ea7": {
          "model_module": "@jupyter-widgets/base",
          "model_name": "LayoutModel",
          "model_module_version": "1.2.0",
          "state": {
            "_view_name": "LayoutView",
            "grid_template_rows": null,
            "right": null,
            "justify_content": null,
            "_view_module": "@jupyter-widgets/base",
            "overflow": null,
            "_model_module_version": "1.2.0",
            "_view_count": null,
            "flex_flow": null,
            "width": null,
            "min_width": null,
            "border": null,
            "align_items": null,
            "bottom": null,
            "_model_module": "@jupyter-widgets/base",
            "top": null,
            "grid_column": null,
            "overflow_y": null,
            "overflow_x": null,
            "grid_auto_flow": null,
            "grid_area": null,
            "grid_template_columns": null,
            "flex": null,
            "_model_name": "LayoutModel",
            "justify_items": null,
            "grid_row": null,
            "max_height": null,
            "align_content": null,
            "visibility": null,
            "align_self": null,
            "height": null,
            "min_height": null,
            "padding": null,
            "grid_auto_rows": null,
            "grid_gap": null,
            "max_width": null,
            "order": null,
            "_view_module_version": "1.2.0",
            "grid_template_areas": null,
            "object_position": null,
            "object_fit": null,
            "grid_auto_columns": null,
            "margin": null,
            "display": null,
            "left": null
          }
        },
        "046f83d5836a4a019128f6ba13ad0f7a": {
          "model_module": "@jupyter-widgets/controls",
          "model_name": "ProgressStyleModel",
          "model_module_version": "1.5.0",
          "state": {
            "_view_name": "StyleView",
            "_model_name": "ProgressStyleModel",
            "description_width": "",
            "_view_module": "@jupyter-widgets/base",
            "_model_module_version": "1.5.0",
            "_view_count": null,
            "_view_module_version": "1.2.0",
            "bar_color": null,
            "_model_module": "@jupyter-widgets/controls"
          }
        },
        "72cba003886b4a9ea8c645c5caaa2081": {
          "model_module": "@jupyter-widgets/base",
          "model_name": "LayoutModel",
          "model_module_version": "1.2.0",
          "state": {
            "_view_name": "LayoutView",
            "grid_template_rows": null,
            "right": null,
            "justify_content": null,
            "_view_module": "@jupyter-widgets/base",
            "overflow": null,
            "_model_module_version": "1.2.0",
            "_view_count": null,
            "flex_flow": null,
            "width": null,
            "min_width": null,
            "border": null,
            "align_items": null,
            "bottom": null,
            "_model_module": "@jupyter-widgets/base",
            "top": null,
            "grid_column": null,
            "overflow_y": null,
            "overflow_x": null,
            "grid_auto_flow": null,
            "grid_area": null,
            "grid_template_columns": null,
            "flex": null,
            "_model_name": "LayoutModel",
            "justify_items": null,
            "grid_row": null,
            "max_height": null,
            "align_content": null,
            "visibility": null,
            "align_self": null,
            "height": null,
            "min_height": null,
            "padding": null,
            "grid_auto_rows": null,
            "grid_gap": null,
            "max_width": null,
            "order": null,
            "_view_module_version": "1.2.0",
            "grid_template_areas": null,
            "object_position": null,
            "object_fit": null,
            "grid_auto_columns": null,
            "margin": null,
            "display": null,
            "left": null
          }
        },
        "f6f20fb19c904eea8d19bc0b19b24772": {
          "model_module": "@jupyter-widgets/controls",
          "model_name": "DescriptionStyleModel",
          "model_module_version": "1.5.0",
          "state": {
            "_view_name": "StyleView",
            "_model_name": "DescriptionStyleModel",
            "description_width": "",
            "_view_module": "@jupyter-widgets/base",
            "_model_module_version": "1.5.0",
            "_view_count": null,
            "_view_module_version": "1.2.0",
            "_model_module": "@jupyter-widgets/controls"
          }
        },
        "20e4cf7403ad48eb91a5b0bc823cc91c": {
          "model_module": "@jupyter-widgets/base",
          "model_name": "LayoutModel",
          "model_module_version": "1.2.0",
          "state": {
            "_view_name": "LayoutView",
            "grid_template_rows": null,
            "right": null,
            "justify_content": null,
            "_view_module": "@jupyter-widgets/base",
            "overflow": null,
            "_model_module_version": "1.2.0",
            "_view_count": null,
            "flex_flow": null,
            "width": null,
            "min_width": null,
            "border": null,
            "align_items": null,
            "bottom": null,
            "_model_module": "@jupyter-widgets/base",
            "top": null,
            "grid_column": null,
            "overflow_y": null,
            "overflow_x": null,
            "grid_auto_flow": null,
            "grid_area": null,
            "grid_template_columns": null,
            "flex": null,
            "_model_name": "LayoutModel",
            "justify_items": null,
            "grid_row": null,
            "max_height": null,
            "align_content": null,
            "visibility": null,
            "align_self": null,
            "height": null,
            "min_height": null,
            "padding": null,
            "grid_auto_rows": null,
            "grid_gap": null,
            "max_width": null,
            "order": null,
            "_view_module_version": "1.2.0",
            "grid_template_areas": null,
            "object_position": null,
            "object_fit": null,
            "grid_auto_columns": null,
            "margin": null,
            "display": null,
            "left": null
          }
        },
        "b3914d285d9b4709b5318319bb449a29": {
          "model_module": "@jupyter-widgets/controls",
          "model_name": "HBoxModel",
          "model_module_version": "1.5.0",
          "state": {
            "_view_name": "HBoxView",
            "_dom_classes": [],
            "_model_name": "HBoxModel",
            "_view_module": "@jupyter-widgets/controls",
            "_model_module_version": "1.5.0",
            "_view_count": null,
            "_view_module_version": "1.5.0",
            "box_style": "",
            "layout": "IPY_MODEL_6c37e0905ad646a1bad98b798a367e35",
            "_model_module": "@jupyter-widgets/controls",
            "children": [
              "IPY_MODEL_fd5b64b7fc484949ab97637815ec5122",
              "IPY_MODEL_586f63ca44fc4b288a5f866853e1162d",
              "IPY_MODEL_ffe70f37a9c04e009af8f36faf11e3a5"
            ]
          }
        },
        "6c37e0905ad646a1bad98b798a367e35": {
          "model_module": "@jupyter-widgets/base",
          "model_name": "LayoutModel",
          "model_module_version": "1.2.0",
          "state": {
            "_view_name": "LayoutView",
            "grid_template_rows": null,
            "right": null,
            "justify_content": null,
            "_view_module": "@jupyter-widgets/base",
            "overflow": null,
            "_model_module_version": "1.2.0",
            "_view_count": null,
            "flex_flow": null,
            "width": null,
            "min_width": null,
            "border": null,
            "align_items": null,
            "bottom": null,
            "_model_module": "@jupyter-widgets/base",
            "top": null,
            "grid_column": null,
            "overflow_y": null,
            "overflow_x": null,
            "grid_auto_flow": null,
            "grid_area": null,
            "grid_template_columns": null,
            "flex": null,
            "_model_name": "LayoutModel",
            "justify_items": null,
            "grid_row": null,
            "max_height": null,
            "align_content": null,
            "visibility": null,
            "align_self": null,
            "height": null,
            "min_height": null,
            "padding": null,
            "grid_auto_rows": null,
            "grid_gap": null,
            "max_width": null,
            "order": null,
            "_view_module_version": "1.2.0",
            "grid_template_areas": null,
            "object_position": null,
            "object_fit": null,
            "grid_auto_columns": null,
            "margin": null,
            "display": null,
            "left": null
          }
        },
        "fd5b64b7fc484949ab97637815ec5122": {
          "model_module": "@jupyter-widgets/controls",
          "model_name": "HTMLModel",
          "model_module_version": "1.5.0",
          "state": {
            "_view_name": "HTMLView",
            "style": "IPY_MODEL_ad0dfe02446b46fea6836236852ebe8c",
            "_dom_classes": [],
            "description": "",
            "_model_name": "HTMLModel",
            "placeholder": "​",
            "_view_module": "@jupyter-widgets/controls",
            "_model_module_version": "1.5.0",
            "value": "Epoch [1/5]: [600/2500]  24%",
            "_view_count": null,
            "_view_module_version": "1.5.0",
            "description_tooltip": null,
            "_model_module": "@jupyter-widgets/controls",
            "layout": "IPY_MODEL_ae7fbe73b6394d288b4f1b39a819dab0"
          }
        },
        "586f63ca44fc4b288a5f866853e1162d": {
          "model_module": "@jupyter-widgets/controls",
          "model_name": "FloatProgressModel",
          "model_module_version": "1.5.0",
          "state": {
            "_view_name": "ProgressView",
            "style": "IPY_MODEL_d9a4ff8d43d24f8b86adc138c31fda95",
            "_dom_classes": [],
            "description": "",
            "_model_name": "FloatProgressModel",
            "bar_style": "",
            "max": 2500,
            "_view_module": "@jupyter-widgets/controls",
            "_model_module_version": "1.5.0",
            "value": 600,
            "_view_count": null,
            "_view_module_version": "1.5.0",
            "orientation": "horizontal",
            "min": 0,
            "description_tooltip": null,
            "_model_module": "@jupyter-widgets/controls",
            "layout": "IPY_MODEL_d8a3315c97ed4487a6b0a49029c4cff1"
          }
        },
        "ffe70f37a9c04e009af8f36faf11e3a5": {
          "model_module": "@jupyter-widgets/controls",
          "model_name": "HTMLModel",
          "model_module_version": "1.5.0",
          "state": {
            "_view_name": "HTMLView",
            "style": "IPY_MODEL_af43619b934e4781a1dbb76cd81ee023",
            "_dom_classes": [],
            "description": "",
            "_model_name": "HTMLModel",
            "placeholder": "​",
            "_view_module": "@jupyter-widgets/controls",
            "_model_module_version": "1.5.0",
            "value": ", batch loss=1.75e+4 [02:14&lt;07:52]",
            "_view_count": null,
            "_view_module_version": "1.5.0",
            "description_tooltip": null,
            "_model_module": "@jupyter-widgets/controls",
            "layout": "IPY_MODEL_3072f9aa33d243679406b23263f4902f"
          }
        },
        "ad0dfe02446b46fea6836236852ebe8c": {
          "model_module": "@jupyter-widgets/controls",
          "model_name": "DescriptionStyleModel",
          "model_module_version": "1.5.0",
          "state": {
            "_view_name": "StyleView",
            "_model_name": "DescriptionStyleModel",
            "description_width": "",
            "_view_module": "@jupyter-widgets/base",
            "_model_module_version": "1.5.0",
            "_view_count": null,
            "_view_module_version": "1.2.0",
            "_model_module": "@jupyter-widgets/controls"
          }
        },
        "ae7fbe73b6394d288b4f1b39a819dab0": {
          "model_module": "@jupyter-widgets/base",
          "model_name": "LayoutModel",
          "model_module_version": "1.2.0",
          "state": {
            "_view_name": "LayoutView",
            "grid_template_rows": null,
            "right": null,
            "justify_content": null,
            "_view_module": "@jupyter-widgets/base",
            "overflow": null,
            "_model_module_version": "1.2.0",
            "_view_count": null,
            "flex_flow": null,
            "width": null,
            "min_width": null,
            "border": null,
            "align_items": null,
            "bottom": null,
            "_model_module": "@jupyter-widgets/base",
            "top": null,
            "grid_column": null,
            "overflow_y": null,
            "overflow_x": null,
            "grid_auto_flow": null,
            "grid_area": null,
            "grid_template_columns": null,
            "flex": null,
            "_model_name": "LayoutModel",
            "justify_items": null,
            "grid_row": null,
            "max_height": null,
            "align_content": null,
            "visibility": null,
            "align_self": null,
            "height": null,
            "min_height": null,
            "padding": null,
            "grid_auto_rows": null,
            "grid_gap": null,
            "max_width": null,
            "order": null,
            "_view_module_version": "1.2.0",
            "grid_template_areas": null,
            "object_position": null,
            "object_fit": null,
            "grid_auto_columns": null,
            "margin": null,
            "display": null,
            "left": null
          }
        },
        "d9a4ff8d43d24f8b86adc138c31fda95": {
          "model_module": "@jupyter-widgets/controls",
          "model_name": "ProgressStyleModel",
          "model_module_version": "1.5.0",
          "state": {
            "_view_name": "StyleView",
            "_model_name": "ProgressStyleModel",
            "description_width": "",
            "_view_module": "@jupyter-widgets/base",
            "_model_module_version": "1.5.0",
            "_view_count": null,
            "_view_module_version": "1.2.0",
            "bar_color": null,
            "_model_module": "@jupyter-widgets/controls"
          }
        },
        "d8a3315c97ed4487a6b0a49029c4cff1": {
          "model_module": "@jupyter-widgets/base",
          "model_name": "LayoutModel",
          "model_module_version": "1.2.0",
          "state": {
            "_view_name": "LayoutView",
            "grid_template_rows": null,
            "right": null,
            "justify_content": null,
            "_view_module": "@jupyter-widgets/base",
            "overflow": null,
            "_model_module_version": "1.2.0",
            "_view_count": null,
            "flex_flow": null,
            "width": null,
            "min_width": null,
            "border": null,
            "align_items": null,
            "bottom": null,
            "_model_module": "@jupyter-widgets/base",
            "top": null,
            "grid_column": null,
            "overflow_y": null,
            "overflow_x": null,
            "grid_auto_flow": null,
            "grid_area": null,
            "grid_template_columns": null,
            "flex": null,
            "_model_name": "LayoutModel",
            "justify_items": null,
            "grid_row": null,
            "max_height": null,
            "align_content": null,
            "visibility": null,
            "align_self": null,
            "height": null,
            "min_height": null,
            "padding": null,
            "grid_auto_rows": null,
            "grid_gap": null,
            "max_width": null,
            "order": null,
            "_view_module_version": "1.2.0",
            "grid_template_areas": null,
            "object_position": null,
            "object_fit": null,
            "grid_auto_columns": null,
            "margin": null,
            "display": null,
            "left": null
          }
        },
        "af43619b934e4781a1dbb76cd81ee023": {
          "model_module": "@jupyter-widgets/controls",
          "model_name": "DescriptionStyleModel",
          "model_module_version": "1.5.0",
          "state": {
            "_view_name": "StyleView",
            "_model_name": "DescriptionStyleModel",
            "description_width": "",
            "_view_module": "@jupyter-widgets/base",
            "_model_module_version": "1.5.0",
            "_view_count": null,
            "_view_module_version": "1.2.0",
            "_model_module": "@jupyter-widgets/controls"
          }
        },
        "3072f9aa33d243679406b23263f4902f": {
          "model_module": "@jupyter-widgets/base",
          "model_name": "LayoutModel",
          "model_module_version": "1.2.0",
          "state": {
            "_view_name": "LayoutView",
            "grid_template_rows": null,
            "right": null,
            "justify_content": null,
            "_view_module": "@jupyter-widgets/base",
            "overflow": null,
            "_model_module_version": "1.2.0",
            "_view_count": null,
            "flex_flow": null,
            "width": null,
            "min_width": null,
            "border": null,
            "align_items": null,
            "bottom": null,
            "_model_module": "@jupyter-widgets/base",
            "top": null,
            "grid_column": null,
            "overflow_y": null,
            "overflow_x": null,
            "grid_auto_flow": null,
            "grid_area": null,
            "grid_template_columns": null,
            "flex": null,
            "_model_name": "LayoutModel",
            "justify_items": null,
            "grid_row": null,
            "max_height": null,
            "align_content": null,
            "visibility": null,
            "align_self": null,
            "height": null,
            "min_height": null,
            "padding": null,
            "grid_auto_rows": null,
            "grid_gap": null,
            "max_width": null,
            "order": null,
            "_view_module_version": "1.2.0",
            "grid_template_areas": null,
            "object_position": null,
            "object_fit": null,
            "grid_auto_columns": null,
            "margin": null,
            "display": null,
            "left": null
          }
        }
      }
    }
  },
  "cells": [
    {
      "cell_type": "markdown",
      "metadata": {
        "id": "view-in-github",
        "colab_type": "text"
      },
      "source": [
        "<a href=\"https://colab.research.google.com/github/Ishan-Kumar2/examples/blob/mt_example/Examples/Machine_Translation_using_PyTorch_Ignite.ipynb\" target=\"_parent\"><img src=\"https://colab.research.google.com/assets/colab-badge.svg\" alt=\"Open In Colab\"/></a>"
      ]
    },
    {
      "cell_type": "code",
      "metadata": {
        "id": "OUsi2Pv957NV"
      },
      "source": [
        "# installing appropriate modules\n",
        "%%capture\n",
        "!pip install git+https://github.com/huggingface/transformers.git@master;\n",
        "!pip install git+https://github.com/huggingface/datasets.git@master;\n",
        "!pip install git+https://github.com/pytorch/ignite.git@master;\n",
        "!pip install sentencepiece;"
      ],
      "execution_count": null,
      "outputs": []
    },
    {
      "cell_type": "code",
      "metadata": {
        "id": "xZNpWSE_8GOZ"
      },
      "source": [
        "## Uncomment if using TPU\n",
        "# setup TPU environment\n",
        "# import os\n",
        "# assert os.environ['COLAB_TPU_ADDR'], 'Make sure to select TPU from Edit > Notebook settings > Hardware accelerator'\n",
        "\n",
        "# VERSION = \"nightly\"\n",
        "# !curl -q https://raw.githubusercontent.com/pytorch/xla/master/contrib/scripts/env-setup.py -o pytorch-xla-env-setup.py\n",
        "# !python pytorch-xla-env-setup.py --version $VERSION > /dev/null"
      ],
      "execution_count": null,
      "outputs": []
    },
    {
      "cell_type": "code",
      "metadata": {
        "id": "xlcMGBv8nhrw"
      },
      "source": [
        "import torch"
      ],
      "execution_count": null,
      "outputs": []
    },
    {
      "cell_type": "code",
      "metadata": {
        "id": "MNj9cx216vqT"
      },
      "source": [
        "from pathlib import Path\n",
        "from datasets import load_dataset\n",
        "from transformers import MBartForConditionalGeneration, MBartTokenizer\n",
        "from datetime import datetime\n",
        "import torch\n",
        "import torch.nn as nn\n",
        "import torch.optim as optim\n",
        "from torch.utils.data import random_split\n",
        "from torch.cuda.amp import GradScaler, autocast\n",
        "\n",
        "import nltk\n",
        "import ignite\n",
        "import ignite.distributed as idist\n",
        "from ignite.contrib.engines import common\n",
        "from ignite.metrics import Loss, RougeN, Bleu, Accuracy, Loss\n",
        "from ignite.utils import manual_seed, setup_logger\n",
        "from ignite.engine import Engine, Events\n",
        "from ignite.contrib.handlers import PiecewiseLinear\n",
        "from ignite.handlers import Checkpoint, global_step_from_engine"
      ],
      "execution_count": null,
      "outputs": []
    },
    {
      "cell_type": "code",
      "metadata": {
        "id": "5SInIPWqQmuq"
      },
      "source": [
        "# Configs\n",
        "with_amp = True\n",
        "seed = 126\n",
        "num_epochs = 5\n",
        "output_path_ = '/content'\n",
        "checkpoint_every = 100\n",
        "model_name = \"sshleifer/tiny-mbart\" #\"facebook/mbart-large-cc25\"\n",
        "tokenizer_name = \"sshleifer/tiny-mbart\" #\"facebook/mbart-large-cc25\" "
      ],
      "execution_count": null,
      "outputs": []
    },
    {
      "cell_type": "markdown",
      "metadata": {
        "id": "YwpsSs-ef3Cc"
      },
      "source": [
        "## Preparing data\n",
        "\n",
        "We will be using the stas/wmt16-en-ro-pre-processed for this example ."
      ]
    },
    {
      "cell_type": "code",
      "metadata": {
        "colab": {
          "base_uri": "https://localhost:8080/",
          "height": 87,
          "referenced_widgets": [
            "24ff46abd0e64ca18ffb6a490e706575",
            "4ecea6d140c64857aa422178ffb2f640",
            "bc7441cefb094f3f8a2a13e8419181ff",
            "d99f2fe400f343f7a41c83fed477ca4a",
            "acde2826d0c24d5b8ff031494ff69b6e",
            "3e78fb26fb984d9a8fb243eaff4d392a",
            "a45b3ae308f74b6e8f99751fcf5239a5",
            "fa0ce9a85b1543598f225129285c54d8",
            "ba624139c2b44a328dbc5d8d70b5d5a8",
            "28f19a0883a74043ba36f546b812d413",
            "5ae92555c0a14def8c411eabb524e40b"
          ]
        },
        "id": "GjLlDIzR6QjG",
        "outputId": "1fa909d3-182f-4ff1-af14-4007730cdb17"
      },
      "source": [
        "from datasets import load_dataset\n",
        "\n",
        "dataset = load_dataset(\"stas/wmt16-en-ro-pre-processed\")"
      ],
      "execution_count": null,
      "outputs": [
        {
          "output_type": "stream",
          "text": [
            "Reusing dataset wmt16_en_ro_pre_processed (/root/.cache/huggingface/datasets/wmt16_en_ro_pre_processed/enro/1.1.0/c4093132d2665734cbb5098992e5cdf3cdbd807b80a5913a456ab7cb8c34ab2b)\n"
          ],
          "name": "stderr"
        },
        {
          "output_type": "display_data",
          "data": {
            "application/vnd.jupyter.widget-view+json": {
              "model_id": "24ff46abd0e64ca18ffb6a490e706575",
              "version_minor": 0,
              "version_major": 2
            },
            "text/plain": [
              "  0%|          | 0/3 [00:00<?, ?it/s]"
            ]
          },
          "metadata": {}
        }
      ]
    },
    {
      "cell_type": "code",
      "metadata": {
        "colab": {
          "base_uri": "https://localhost:8080/"
        },
        "id": "AyVBWfpoKQXI",
        "outputId": "a60b8de5-ce25-4ccb-b55b-801c384f9aa7"
      },
      "source": [
        "print(\"Example of a Datapoint\")\n",
        "print(dataset['train'][0])\n",
        "print(\"Lengths\")\n",
        "print(\"\\t Train Set - {}\".format(len(dataset['train'])))\n",
        "print(\"\\t Val Set - {}\".format(len(dataset['validation'])))\n",
        "print(\"\\t Test Set - {}\".format(len(dataset['test'])))"
      ],
      "execution_count": null,
      "outputs": [
        {
          "output_type": "stream",
          "text": [
            "Example of a Datapoint\n",
            "{'translation': {'en': 'Membership of Parliament: see Minutes', 'ro': 'Componenţa Parlamentului: a se vedea procesul-verbal'}}\n",
            "Lengths\n",
            "\t Train Set - 610320\n",
            "\t Val Set - 1999\n",
            "\t Test Set - 1999\n"
          ],
          "name": "stdout"
        }
      ]
    },
    {
      "cell_type": "code",
      "metadata": {
        "id": "p-o1azyZVQnW"
      },
      "source": [
        "tokenizer = MBartTokenizer.from_pretrained(tokenizer_name, src_lang=\"en_XX\", tgt_lang=\"ro_RO\")"
      ],
      "execution_count": null,
      "outputs": []
    },
    {
      "cell_type": "code",
      "metadata": {
        "id": "SJ5tkvn9y8Uo"
      },
      "source": [
        "class TransformerDataset(torch.utils.data.Dataset):\n",
        "    def __init__(self, data, src_text_id, tgt_text_id, tokenizer, max_length, len):\n",
        "        self.data = data\n",
        "        self.src_text_id = src_text_id\n",
        "        self.tgt_text_id = tgt_text_id\n",
        "        self.tokenizer = tokenizer\n",
        "        self.max_length = max_length\n",
        "        self.len = len\n",
        "\n",
        "    def __getitem__(self, idx):\n",
        "        src_text = [str(self.data[idx]['translation'][self.src_text_id])]\n",
        "        tgt_text = [str(self.data[idx]['translation'][self.tgt_text_id])]\n",
        "        src_text = self.tokenizer(src_text,max_length= self.max_length, padding = 'max_length',truncation=True)\n",
        "        with self.tokenizer.as_target_tokenizer():\n",
        "          tgt_text = self.tokenizer(tgt_text,max_length= self.max_length,padding = 'max_length',truncation=True)\n",
        "\n",
        "        return {\n",
        "            \"src_input_ids\": torch.tensor(src_text['input_ids']).squeeze(0),\n",
        "            \"src_attention_mask\": torch.tensor(src_text['attention_mask']).squeeze(0),\n",
        "            \"tgt\": torch.tensor(tgt_text['input_ids']).squeeze(0),\n",
        "        }\n",
        "\n",
        "    def __len__(self):\n",
        "        return self.len"
      ],
      "execution_count": null,
      "outputs": []
    },
    {
      "cell_type": "code",
      "metadata": {
        "id": "rdf-SYMp1oEs"
      },
      "source": [
        "train_dataset = TransformerDataset(dataset['train'], 'en', 'ro', tokenizer, 24, 300000)\n",
        "val_dataset = TransformerDataset(dataset['validation'], 'en', 'ro', tokenizer, 24, 1999)"
      ],
      "execution_count": null,
      "outputs": []
    },
    {
      "cell_type": "markdown",
      "metadata": {
        "id": "7C19xqP_h9gj"
      },
      "source": [
        "## Initiating model and trainer for training"
      ]
    },
    {
      "cell_type": "code",
      "metadata": {
        "id": "hTIlKn9CJGMC"
      },
      "source": [
        "# Create Trainer \n",
        "def create_trainer(model, optimizer, criterion, with_amp, train_sampler, logger):\n",
        "\n",
        "    device = idist.device()\n",
        "    scaler = GradScaler(enabled=with_amp)\n",
        "\n",
        "    def train_step(engine, batch):\n",
        "        src_ids = batch[\"src_input_ids\"]\n",
        "        src_attention_mask = batch[\"src_attention_mask\"]\n",
        "        tgt = batch[\"tgt\"]\n",
        "\n",
        "        if src_ids.device != device:\n",
        "            src_ids = src_ids.to(device, non_blocking=True, dtype=torch.long)\n",
        "            src_attention_mask = src_attention_mask.to(device, non_blocking=True, dtype=torch.long)\n",
        "            tgt = tgt.to(device, non_blocking=True, dtype=torch.long)\n",
        "\n",
        "        model.train()\n",
        "\n",
        "        with autocast(enabled=with_amp):\n",
        "            y = model(src_ids, src_attention_mask, labels = tgt)\n",
        "            loss = y['loss']\n",
        "            y_pred = y['logits']\n",
        "            y_pred = y_pred.view(-1, y_pred.size(2))\n",
        "            tgt = tgt.contiguous().view(-1)\n",
        "            loss = criterion(y_pred, tgt)\n",
        "\n",
        "        optimizer.zero_grad()\n",
        "        scaler.scale(loss).backward()\n",
        "        scaler.step(optimizer)\n",
        "        scaler.update()\n",
        "\n",
        "        return {\n",
        "            \"batch loss\": loss.item(),\n",
        "        }\n",
        "    \n",
        "    trainer = Engine(train_step)\n",
        "    trainer.logger = logger\n",
        "\n",
        "    to_save = {\"trainer\": trainer, \"model\": model, \"optimizer\": optimizer}\n",
        "    metric_names = [\n",
        "        \"batch loss\",\n",
        "    ]\n",
        "    common.setup_common_training_handlers(\n",
        "        trainer=trainer,\n",
        "        train_sampler=train_sampler,\n",
        "        output_names=metric_names,\n",
        "        clear_cuda_cache=False,\n",
        "        with_pbars=True,\n",
        "    )\n",
        "    return trainer"
      ],
      "execution_count": null,
      "outputs": []
    },
    {
      "cell_type": "code",
      "metadata": {
        "id": "SOffHp5sOcj3"
      },
      "source": [
        ""
      ],
      "execution_count": null,
      "outputs": []
    },
    {
      "cell_type": "code",
      "metadata": {
        "id": "AphMNHAJoXJV"
      },
      "source": [
        "# Let's now setup evaluator engine to perform model's validation and compute metrics\n",
        "def create_evaluator(model, tokenizer, metrics, with_amp, tag=\"val\"):\n",
        "\n",
        "    device = idist.device()\n",
        "    \n",
        "    def ids_to_clean_text(generated_ids):\n",
        "        gen_text = tokenizer.batch_decode(\n",
        "            generated_ids, skip_special_tokens=True, clean_up_tokenization_spaces=True\n",
        "        )\n",
        "        return list(map(str.strip, gen_text))\n",
        "\n",
        "    @torch.no_grad()\n",
        "    def evaluate_step(engine, batch):\n",
        "        model.eval()\n",
        "\n",
        "        src_ids = batch[\"src_input_ids\"]\n",
        "        src_attention_mask = batch[\"src_attention_mask\"]\n",
        "        tgt = batch[\"tgt\"]\n",
        "\n",
        "        if src_ids.device != device:\n",
        "            src_ids = src_ids.to(device, non_blocking=True, dtype=torch.long)\n",
        "            src_attention_mask = src_attention_mask.to(device, non_blocking=True, dtype=torch.long)\n",
        "            tgt = tgt.to(device, non_blocking=True, dtype=torch.long)\n",
        "            \n",
        "        \n",
        "        y_pred = model.generate(src_ids, forced_bos_token_id=tokenizer.lang_code_to_id[\"ro_RO\"])\n",
        "        preds = ids_to_clean_text(y_pred)\n",
        "        tgt = ids_to_clean_text(tgt)\n",
        "        preds = [_preds.split() for _preds in preds]\n",
        "        tgt = [[_tgt.split()] for _tgt in tgt]\n",
        "        \n",
        "        if engine.state.iteration % 5 == 0:\n",
        "          print(\"Preds : \",preds)\n",
        "          print(\"Target : \",tgt)\n",
        "          print(nltk.translate.bleu_score.corpus_bleu(tgt, preds))\n",
        "\n",
        "        #preds = [pred.split() for pred in preds]\n",
        "        #tgt = [[tgt_.split()] for tgt_ in tgt]\n",
        "        # print(\"Preds\",preds)\n",
        "        # print(\"TGT\",tgt)\n",
        "        return preds, tgt\n",
        "\n",
        "    evaluator = Engine(evaluate_step)\n",
        "\n",
        "    for name, metric in metrics.items():\n",
        "        metric.attach(evaluator, name)\n",
        "    \n",
        "    if idist.get_rank() == 0:\n",
        "        common.ProgressBar(desc=f\"Evaluation ({tag})\", persist=False).attach(evaluator)\n",
        "\n",
        "    return evaluator\n"
      ],
      "execution_count": null,
      "outputs": []
    },
    {
      "cell_type": "code",
      "metadata": {
        "id": "7aNi7qao66YQ"
      },
      "source": [
        "def initialize():\n",
        "  # model = MBartForConditionalGeneration.from_pretrained(\"facebook/mbart-large-50\")\n",
        "  model = MBartForConditionalGeneration.from_pretrained(model_name)\n",
        "  lr = 5e-2 * idist.get_world_size()\n",
        "  model = idist.auto_model(model)\n",
        "  optimizer = optim.AdamW(model.parameters(), lr=lr)\n",
        "  optimizer = idist.auto_optim(optimizer)\n",
        "  criterion = nn.CrossEntropyLoss(ignore_index = train_dataset.tokenizer.pad_token_id, reduction='sum')\n",
        "  # le = config[\"num_iters_per_epoch\"]\n",
        "  # milestones_values = [\n",
        "  #       (0, 0.0),\n",
        "  #       (le * warmup_epochs, lr),\n",
        "  #       (le * num_epochs, 0.0),\n",
        "  # ]\n",
        "  # lr_scheduler = PiecewiseLinear(optimizer, param_name=\"lr\", milestones_values=milestones_values)\n",
        "  return model, optimizer, criterion\n"
      ],
      "execution_count": null,
      "outputs": []
    },
    {
      "cell_type": "code",
      "metadata": {
        "id": "CThVRupzsxuQ"
      },
      "source": [
        "def get_dataloaders(train_dataset, val_dataset, batch_size=120, num_workers=2):\n",
        "\n",
        "    # Setup data loader also adapted to distributed config: nccl, gloo, xla-tpu\n",
        "    train_loader = idist.auto_dataloader(\n",
        "        train_dataset, batch_size=batch_size, num_workers=num_workers, shuffle=True, drop_last=True,\n",
        "    )\n",
        "\n",
        "    val_loader = idist.auto_dataloader(\n",
        "        val_dataset, batch_size=batch_size, num_workers=num_workers, shuffle=False,\n",
        "    )\n",
        "    return train_loader, val_loader\n"
      ],
      "execution_count": null,
      "outputs": []
    },
    {
      "cell_type": "code",
      "metadata": {
        "id": "6G1kyCtWxbZy"
      },
      "source": [
        "def log_metrics(logger, epoch, elapsed, tag, metrics):\n",
        "    metrics_output = \"\\n\".join([f\"\\t{k}: {v}\" for k, v in metrics.items()])\n",
        "    logger.info(f\"\\nEpoch {epoch} - Evaluation time (seconds): {elapsed:.2f} - {tag} metrics:\\n {metrics_output}\")"
      ],
      "execution_count": null,
      "outputs": []
    },
    {
      "cell_type": "code",
      "metadata": {
        "id": "4l0aDOM6EikW"
      },
      "source": [
        "def training(local_rank):\n",
        "\n",
        "    rank = idist.get_rank()\n",
        "    manual_seed(seed + rank)\n",
        "    device = idist.device()\n",
        "\n",
        "    logger = setup_logger(name=\"NMT\", distributed_rank=local_rank)\n",
        "\n",
        "    train_loader, val_loader = get_dataloaders(train_dataset, val_dataset)\n",
        "    model, optimizer, criterion = initialize()\n",
        "\n",
        "    trainer = create_trainer(model, optimizer, criterion, with_amp, train_loader.sampler, logger)\n",
        "\n",
        "    # metrics = {}\n",
        "\n",
        "    metrics = {\n",
        "      }\n",
        "\n",
        "    evaluator = create_evaluator(model, tokenizer, metrics, with_amp, tag=\"val\")\n",
        "    train_evaluator = create_evaluator(model, tokenizer, metrics, with_amp, tag=\"train\")\n",
        "\n",
        "    @trainer.on(Events.EPOCH_COMPLETED(every=1))\n",
        "    def run_validation(engine):\n",
        "        epoch = trainer.state.epoch\n",
        "        # state = train_evaluator.run(train_loader)\n",
        "        # log_metrics(logger, epoch, state.times[\"COMPLETED\"], \"Train\", state.metrics)\n",
        "        state = evaluator.run(val_loader)\n",
        "        log_metrics(logger, epoch, state.times[\"COMPLETED\"], \"Validation\", state.metrics)\n",
        "\n",
        "    if rank == 0:\n",
        "      now = datetime.now().strftime(\"%Y%m%d-%H%M%S\")\n",
        "      folder_name = f\"Translation_Model_backend-{idist.backend()}-{idist.get_world_size()}_{now}\"\n",
        "      output_path = Path(output_path_) / folder_name\n",
        "      if not output_path.exists():\n",
        "            output_path.mkdir(parents=True)\n",
        "      \n",
        "      logger.info(f\"Output path: {output_path}\")\n",
        "    \"\"\"\n",
        "    if rank == 0:\n",
        "        # Setup TensorBoard logging on trainer and evaluators. Training Losses and Eval Metrics are logged\n",
        "        # evaluators = {\"training\": train_evaluator, \"test\": evaluator}\n",
        "        \n",
        "        # tb_logger = common.setup_tb_logging(\n",
        "        #     output_path, trainer, optimizer, evaluators=evaluators, log_every_iters=100\n",
        "        # )\n",
        "    \"\"\"\n",
        "    try:\n",
        "        trainer.run(train_loader, max_epochs=num_epochs)\n",
        "    except Exception as e:\n",
        "        logger.exception(\"\")\n",
        "        raise e\n",
        "    \n",
        "    #if rank == 0:\n",
        "    #    tb_logger.close()"
      ],
      "execution_count": null,
      "outputs": []
    },
    {
      "cell_type": "code",
      "metadata": {
        "colab": {
          "base_uri": "https://localhost:8080/",
          "height": 227,
          "referenced_widgets": [
            "e0bfe77d9c1d462c8d9b237a93bc4ec5",
            "b006d9b2d6bc4e54ab78ba86c75e3724",
            "8fa36ecbc58849f9a7e9fe91837069ed",
            "005289d8e13f4be0821627837e5b1c55",
            "1711d614ec6f48b693e198a6f704f81e",
            "c589b9d0eb62408cbacc1ec96d72f3a9",
            "7ab1b6d1cf8e4cd098993f670a918ea7",
            "046f83d5836a4a019128f6ba13ad0f7a",
            "72cba003886b4a9ea8c645c5caaa2081",
            "f6f20fb19c904eea8d19bc0b19b24772",
            "20e4cf7403ad48eb91a5b0bc823cc91c",
            "b3914d285d9b4709b5318319bb449a29",
            "6c37e0905ad646a1bad98b798a367e35",
            "fd5b64b7fc484949ab97637815ec5122",
            "586f63ca44fc4b288a5f866853e1162d",
            "ffe70f37a9c04e009af8f36faf11e3a5",
            "ad0dfe02446b46fea6836236852ebe8c",
            "ae7fbe73b6394d288b4f1b39a819dab0",
            "d9a4ff8d43d24f8b86adc138c31fda95",
            "d8a3315c97ed4487a6b0a49029c4cff1",
            "af43619b934e4781a1dbb76cd81ee023",
            "3072f9aa33d243679406b23263f4902f"
          ]
        },
        "id": "s4rGWEfQIrh5",
        "outputId": "70fc395d-bdf8-42bd-f36f-b5d9832c753b"
      },
      "source": [
        "def run():\n",
        "    with idist.Parallel(backend=None, nproc_per_node=None) as parallel:\n",
        "        parallel.run(training)\n",
        "\n",
        "run()"
      ],
      "execution_count": null,
      "outputs": [
        {
          "output_type": "stream",
          "text": [
            "2021-08-30 06:03:28,751 ignite.distributed.launcher.Parallel INFO: - Run '<function training at 0x7f2b0185bef0>' in 1 processes\n",
            "2021-08-30 06:03:28,793 ignite.distributed.auto.auto_dataloader INFO: Use data loader kwargs for dataset '<__main__.Transforme': \n",
            "\t{'batch_size': 120, 'num_workers': 2, 'shuffle': True, 'drop_last': True, 'pin_memory': True}\n",
            "2021-08-30 06:03:28,794 ignite.distributed.auto.auto_dataloader INFO: Use data loader kwargs for dataset '<__main__.Transforme': \n",
            "\t{'batch_size': 120, 'num_workers': 2, 'shuffle': False, 'pin_memory': True}\n",
            "2021-08-30 06:03:33,032 NMT INFO: Output path: /content/Translation_Model_backend-None-1_20210830-060333\n",
            "2021-08-30 06:03:33,035 NMT INFO: Engine run starting with max_epochs=5.\n"
          ],
          "name": "stderr"
        },
        {
          "output_type": "display_data",
          "data": {
            "application/vnd.jupyter.widget-view+json": {
              "model_id": "e0bfe77d9c1d462c8d9b237a93bc4ec5",
              "version_minor": 0,
              "version_major": 2
            },
            "text/plain": [
              " 20%|##        | 1/5 [00:00<?, ?it/s]"
            ]
          },
          "metadata": {}
        },
        {
          "output_type": "display_data",
          "data": {
            "application/vnd.jupyter.widget-view+json": {
              "model_id": "b3914d285d9b4709b5318319bb449a29",
              "version_minor": 0,
              "version_major": 2
            },
            "text/plain": [
              "[1/2500]   0%|           [00:00<?]"
            ]
          },
          "metadata": {}
        }
      ]
    },
    {
      "cell_type": "code",
      "metadata": {
        "id": "WudDSAX-P2gK"
      },
      "source": [
        "!nvidia-smi"
      ],
      "execution_count": null,
      "outputs": []
    },
    {
      "cell_type": "code",
      "metadata": {
        "id": "Q5hN7XDXKpLl"
      },
      "source": [
        "# lets see how our model performs\n",
        "inputs = \"अंतिम प्रविष्ट घटना को हाइलाइट करो\"\n",
        "\n",
        "translation = translator(inputs, return_text=True)\n",
        "translation = [t[\"translation_text\"] for t in translation]\n",
        "print(translation)"
      ],
      "execution_count": null,
      "outputs": []
    },
    {
      "cell_type": "code",
      "metadata": {
        "id": "-zHTeVuyfDcP"
      },
      "source": [
        ""
      ],
      "execution_count": null,
      "outputs": []
    }
  ]
}